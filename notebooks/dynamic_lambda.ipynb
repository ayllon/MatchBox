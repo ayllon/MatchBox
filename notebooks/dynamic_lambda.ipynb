{
 "cells": [
  {
   "cell_type": "code",
   "execution_count": 1,
   "metadata": {},
   "outputs": [],
   "source": [
    "%matplotlib inline\n",
    "import matplotlib.pyplot as plt\n",
    "from scipy.stats import hypergeom\n",
    "from scipy.special import comb\n",
    "import numpy as np\n",
    "import pickle\n",
    "from IPython.display import set_matplotlib_formats\n",
    "\n",
    "plt.style.use('seaborn')\n",
    "plt.style.use('seaborn-paper')\n",
    "plt.style.use('tableau-colorblind10')\n",
    "plt.rcParams.update({\n",
    "    'figure.figsize': (3.5, 2.5),\n",
    "    'text.usetex': True,\n",
    "    'font.size': 6,\n",
    "    'axes.titlesize': 8,\n",
    "    'ytick.labelsize': 6,\n",
    "    'xtick.labelsize': 6,\n",
    "    'axes.labelsize': 6,\n",
    "    'legend.fontsize': 4,\n",
    "    'lines.markersize': 2,\n",
    "    'lines.linewidth': 0.5,\n",
    "    'errorbar.capsize': 2,\n",
    "    'ytick.major.pad': 2,\n",
    "    'xtick.major.pad': 2,\n",
    "    'axes.labelpad': 2\n",
    "})"
   ]
  },
  {
   "cell_type": "code",
   "execution_count": 20,
   "metadata": {},
   "outputs": [
    {
     "data": {
      "text/plain": [
       "(18.0, 0.6428571428571429)"
      ]
     },
     "execution_count": 20,
     "metadata": {},
     "output_type": "execute_result"
    }
   ],
   "source": [
    "k = 2\n",
    "gamma = 0.7413793103448276\n",
    "N = 29\n",
    "D = N - 1\n",
    "E = int(comb(N, k))\n",
    "Ef = E * gamma\n",
    "E\n",
    "\n",
    "missing = int(E-Ef)\n",
    "h = hypergeom(E, E-missing, D)\n",
    "h.ppf(0.1), h.ppf(0.1) / D"
   ]
  },
  {
   "cell_type": "code",
   "execution_count": 21,
   "metadata": {},
   "outputs": [],
   "source": [
    "lambd = 0.02"
   ]
  },
  {
   "cell_type": "code",
   "execution_count": 22,
   "metadata": {},
   "outputs": [
    {
     "data": {
      "image/png": "[encoded data removed]",
      "text/plain": [
       "<Figure size 252x180 with 6 Axes>"
      ]
     },
     "metadata": {},
     "output_type": "display_data"
    }
   ],
   "source": [
    "ndegree = np.arange(0, D+1)\n",
    "\n",
    "fig, axes = plt.subplots(ncols=2, nrows=3, sharex=True, sharey=True)\n",
    "for i, ax in enumerate(axes.ravel()):\n",
    "    gamma = 1. - i*0.05\n",
    "    missing = int(E-E*gamma)\n",
    "    h = hypergeom(E, E-missing, D)\n",
    "    ax.bar(ndegree, h.pmf(ndegree))#, color='gray')\n",
    "    ax.set_ylim(0., 1.)\n",
    "    ax.set_title(f'$\\\\gamma = {gamma:.2f}$ ({missing} / {E})')\n",
    "    x = h.ppf(lambd)\n",
    "    ax.axvline(x, linestyle='--', color='black')\n",
    "    ax.text(x-12, 0.7, f'$\\\\lambda={x/D:.2f}$ ({x:.0f})')\n",
    "    ax.set_xticks(np.arange(0, D+1, step=3))\n",
    "plt.tight_layout()\n",
    "plt.savefig('/home/aalvarez/Downloads/hypergeom.eps', bbox_inches='tight', pad_inches=0.05)\n",
    "plt.show()"
   ]
  },
  {
   "cell_type": "code",
   "execution_count": null,
   "metadata": {},
   "outputs": [],
   "source": []
  }
 ],
 "metadata": {
  "kernelspec": {
   "display_name": "Python 3 (ipykernel)",
   "language": "python",
   "name": "python3"
  },
  "language_info": {
   "codemirror_mode": {
    "name": "ipython",
    "version": 3
   },
   "file_extension": ".py",
   "mimetype": "text/x-python",
   "name": "python",
   "nbconvert_exporter": "python",
   "pygments_lexer": "ipython3",
   "version": "3.8.12"
  }
 },
 "nbformat": 4,
 "nbformat_minor": 4
}
