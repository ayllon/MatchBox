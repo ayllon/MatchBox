{
 "cells": [
  {
   "cell_type": "code",
   "execution_count": 1,
   "outputs": [],
   "source": [
    "%matplotlib inline\n",
    "import zipfile\n",
    "\n",
    "import matplotlib.pyplot as plt\n",
    "import numpy as np\n",
    "import pandas\n",
    "from matplotlib import ticker\n",
    "from matplotlib.gridspec import GridSpec\n",
    "\n",
    "from plot import bootstrap_samples_mean\n",
    "\n",
    "plt.style.use('seaborn')\n",
    "plt.style.use('seaborn-paper')\n",
    "plt.style.use('tableau-colorblind10')\n",
    "plt.rcParams.update({\n",
    "    'figure.figsize': (3.6, 4.8),\n",
    "    'text.usetex': True,\n",
    "    'legend.borderpad': 0,\n",
    "    'xtick.bottom': True,\n",
    "    'xtick.major.size': 2,\n",
    "    'xtick.minor.size': 1,\n",
    "    'lines.markersize': 3,\n",
    "    'lines.linewidth': 0.8,\n",
    "    'errorbar.capsize': 0,\n",
    "    'lines.markeredgewidth': 0.8\n",
    "})"
   ],
   "metadata": {
    "collapsed": false,
    "pycharm": {
     "name": "#%%\n"
    }
   }
  },
  {
   "cell_type": "code",
   "execution_count": 2,
   "outputs": [],
   "source": [
    "run_id = 'wave_20220511'\n",
    "zip = zipfile.ZipFile(f'../results/{run_id}.zip')"
   ],
   "metadata": {
    "collapsed": false,
    "pycharm": {
     "name": "#%%\n"
    }
   }
  },
  {
   "cell_type": "code",
   "execution_count": 3,
   "outputs": [],
   "source": [
    "uind = pandas.read_csv(zip.open(f'{run_id}/uind.csv'))\n",
    "uind['columns'] /= 2 # Turn into arity\n",
    "uind['time'] /= 60"
   ],
   "metadata": {
    "collapsed": false,
    "pycharm": {
     "name": "#%%\n"
    }
   }
  },
  {
   "cell_type": "code",
   "execution_count": 4,
   "outputs": [],
   "source": [
    "uind_aggregated = uind.groupby('columns').aggregate('mean')"
   ],
   "metadata": {
    "collapsed": false,
    "pycharm": {
     "name": "#%%\n"
    }
   }
  },
  {
   "cell_type": "code",
   "execution_count": 5,
   "outputs": [],
   "source": [
    "tind = pandas.read_csv(zip.open(f'{run_id}/bootstrap.csv'))\n",
    "assert (len(tind) == len(uind))\n",
    "tind['columns'] = uind['columns']\n",
    "tind['time'] /= 60"
   ],
   "metadata": {
    "collapsed": false,
    "pycharm": {
     "name": "#%%\n"
    }
   }
  },
  {
   "cell_type": "code",
   "execution_count": 6,
   "outputs": [],
   "source": [
    "tind_aggregated = tind.groupby('columns').aggregate('mean')"
   ],
   "metadata": {
    "collapsed": false,
    "pycharm": {
     "name": "#%%\n"
    }
   }
  },
  {
   "cell_type": "code",
   "execution_count": 7,
   "outputs": [],
   "source": [
    "nind_ng = pandas.read_csv(zip.open(f'{run_id}/findg_0.05_1.00_0.csv'))\n",
    "nind_ng['time'] /= 60\n",
    "nind_ng['columns'] /= 2"
   ],
   "metadata": {
    "collapsed": false,
    "pycharm": {
     "name": "#%%\n"
    }
   }
  },
  {
   "cell_type": "code",
   "execution_count": 8,
   "outputs": [],
   "source": [
    "nind_g = pandas.read_csv(zip.open(f'{run_id}/findg_0.05_1.00_1.csv'))\n",
    "nind_g['time'] /= 60\n",
    "nind_g['columns'] /= 2"
   ],
   "metadata": {
    "collapsed": false,
    "pycharm": {
     "name": "#%%\n"
    }
   }
  },
  {
   "cell_type": "code",
   "execution_count": 9,
   "outputs": [],
   "source": [
    "nind_ng_aggregated = nind_ng[~nind_ng['timeout']].groupby('columns').aggregate('mean')\n",
    "nind_ng_timeouts = nind_ng[nind_ng['timeout']].groupby('columns').size()\n",
    "nind_ng_timeouts /= nind_ng.groupby('columns').size()"
   ],
   "metadata": {
    "collapsed": false,
    "pycharm": {
     "name": "#%%\n"
    }
   }
  },
  {
   "cell_type": "code",
   "execution_count": 10,
   "outputs": [],
   "source": [
    "nind_g_aggregated = nind_g[~nind_g['timeout']].groupby('columns').aggregate('mean')\n",
    "nind_g_timeouts = nind_g[nind_g['timeout']].groupby('columns').size()\n",
    "nind_g_timeouts /= nind_g.groupby('columns').size()"
   ],
   "metadata": {
    "collapsed": false,
    "pycharm": {
     "name": "#%%\n"
    }
   }
  },
  {
   "cell_type": "code",
   "execution_count": 12,
   "outputs": [],
   "source": [
    "def compute_mean_err(df: pandas.DataFrame, col: str, default=0):\n",
    "    mean = np.full(len(uind_aggregated.index), default)\n",
    "    err = np.zeros_like(mean)\n",
    "    for i, c in enumerate(uind_aggregated.index):\n",
    "        rows = df[df['columns'] == c]\n",
    "        if len(rows):\n",
    "            samples = bootstrap_samples_mean(rows[col])\n",
    "            mean[i], err[i] = np.mean(samples), np.std(samples)\n",
    "    return mean, err"
   ],
   "metadata": {
    "collapsed": false,
    "pycharm": {
     "name": "#%%\n"
    }
   }
  },
  {
   "cell_type": "code",
   "execution_count": 13,
   "outputs": [],
   "source": [
    "uind_mean, uind_err = compute_mean_err(uind, 'time')\n",
    "tind_mean, tind_err = compute_mean_err(tind, 'time')\n",
    "nind_ng_mean, nind_ng_err = compute_mean_err(nind_ng[~nind_ng['timeout']], 'time', 50)\n",
    "nind_g_mean, nind_g_err = compute_mean_err(nind_g[~nind_g['timeout']], 'time', 50)"
   ],
   "metadata": {
    "collapsed": false,
    "pycharm": {
     "name": "#%%\n"
    }
   }
  },
  {
   "cell_type": "code",
   "execution_count": 14,
   "outputs": [],
   "source": [
    "uind_accepted_mean, uind_accepted_err = compute_mean_err(uind, 'uinds')\n",
    "tind_accepted_mean, tind_accepted_err = compute_mean_err(tind, 'accepted')\n",
    "nind_ng_accepted_mean, nind_ng_accepted_err = compute_mean_err(nind_ng[~nind_ng['timeout']], 'unique_ind')\n",
    "nind_g_accepted_mean, nind_g_accepted_err = compute_mean_err(nind_g[~nind_g['timeout']], 'unique_ind')"
   ],
   "metadata": {
    "collapsed": false,
    "pycharm": {
     "name": "#%%\n"
    }
   }
  },
  {
   "cell_type": "code",
   "execution_count": 15,
   "outputs": [],
   "source": [
    "tind_candidate_mean, tind_candidate_err = compute_mean_err(tind, 'candidates')\n",
    "nind_ng_candidate_mean, nind_ng_candidate_err = compute_mean_err(nind_ng[~nind_ng['timeout']], 'tests')\n",
    "nind_g_candidate_mean, nind_g_candidate_err = compute_mean_err(nind_g[~nind_g['timeout']], 'tests')"
   ],
   "metadata": {
    "collapsed": false,
    "pycharm": {
     "name": "#%%\n"
    }
   }
  },
  {
   "cell_type": "code",
   "execution_count": 16,
   "outputs": [
    {
     "data": {
      "text/plain": "<Figure size 259.2x345.6 with 3 Axes>",
      "image/png": "[encoded data removed]"
     },
     "metadata": {},
     "output_type": "display_data"
    }
   ],
   "source": [
    "sampling_color = '#555555'\n",
    "sampling_bg = '#ccccd3'\n",
    "uind_color = '#006ba4'\n",
    "uind_bg = '#bbd0e2'\n",
    "tind_color = '#ff800e'\n",
    "tind_bg = '#eed4c4'\n",
    "nind_g_color = '#ababab'\n",
    "nind_g_bg = '#dddde4'\n",
    "nind_ng_color = '#c85200'\n",
    "nind_ng_bg = '#d8c4bd'\n",
    "\n",
    "fig = plt.figure()\n",
    "\n",
    "gs = GridSpec(nrows=5, ncols=1)\n",
    "\n",
    "# Counts\n",
    "ax_counts = fig.add_subplot(gs[0:2, 0])\n",
    "ax_counts.errorbar(uind_aggregated.index, uind_accepted_mean, yerr=uind_accepted_err, label='1-EDD',\n",
    "                   color=uind_color)\n",
    "ax_counts.errorbar(uind_aggregated.index, tind_accepted_mean, yerr=tind_accepted_err, label='2-EDD',\n",
    "                   color=tind_color)\n",
    "ax_counts.errorbar(uind_aggregated.index, nind_ng_accepted_mean, yerr=nind_ng_accepted_err,\n",
    "                   label='n-EDD', color=nind_ng_color)\n",
    "ax_counts.errorbar(uind_aggregated.index, nind_g_accepted_mean, yerr=nind_g_accepted_err,\n",
    "                   label='n-EDD (grow)', color=nind_g_color)\n",
    "\n",
    "ax_counts.legend()\n",
    "ax_counts.set_ylabel('Count')\n",
    "ax_counts.yaxis.set_minor_locator(ticker.AutoMinorLocator(2))\n",
    "ax_counts.yaxis.grid(True, which='minor', linewidth=0.1)\n",
    "\n",
    "plt.setp(ax_counts.get_xticklabels(), visible=False)\n",
    "\n",
    "# Time\n",
    "ax_time = fig.add_subplot(gs[2:4, 0], sharex=ax_counts)\n",
    "\n",
    "ax_time.errorbar(uind_aggregated.index, uind_mean, yerr=uind_err, label='1-EDD time', color=uind_color)\n",
    "ax_time.fill_between(uind_aggregated.index, uind_mean, color=uind_bg)\n",
    "\n",
    "ax_time.errorbar(uind_aggregated.index, uind_mean + tind_mean, yerr=tind_err, label='+ 2-EDD', color=tind_color)\n",
    "ax_time.fill_between(uind_aggregated.index, uind_mean, uind_mean + tind_mean, color=tind_bg)\n",
    "\n",
    "ax_time.errorbar(uind_aggregated.index, uind_mean + tind_mean + nind_ng_mean, yerr=nind_ng_err, label='+ n-EDD time',\n",
    "                 color=nind_ng_color)\n",
    "ax_time.fill_between(uind_aggregated.index, uind_mean + tind_mean, uind_mean + tind_mean + nind_ng_mean, color=nind_ng_bg, zorder=2)\n",
    "\n",
    "ax_time.errorbar(uind_aggregated.index, uind_mean + tind_mean + nind_g_mean, yerr=nind_g_err, label='+ n-EDD time (grow)',\n",
    "                 color=nind_g_color)\n",
    "ax_time.fill_between(uind_aggregated.index, uind_mean + tind_mean, uind_mean + tind_mean + nind_g_mean, color=nind_g_bg, zorder=1)\n",
    "\n",
    "ax_time.legend(loc='upper left')\n",
    "ax_time.set_ylabel('Time (m)')\n",
    "\n",
    "ax_time.yaxis.set_minor_locator(ticker.AutoMinorLocator(2))\n",
    "ax_time.yaxis.grid(True, which='minor', linewidth=0.1)\n",
    "\n",
    "plt.setp(ax_time.get_xticklabels(), visible=False)\n",
    "\n",
    "ax_timeouts = fig.add_subplot(gs[4, 0], sharex=ax_counts)\n",
    "ax_timeouts.bar(nind_g_timeouts.index-0.15, nind_g_timeouts * 100, width=0.3, color=nind_g_color, label='Growing stage')\n",
    "ax_timeouts.bar(nind_ng_timeouts.index+0.15, nind_ng_timeouts * 100, width=0.3, color=nind_ng_color, label='No growing stage')\n",
    "ax_timeouts.legend()\n",
    "\n",
    "ax_timeouts.set_ylabel('Timeouts (\\%)')\n",
    "ax_timeouts.set_xlabel('Columns')\n",
    "ax_timeouts.yaxis.set_minor_locator(ticker.AutoMinorLocator(2))\n",
    "ax_timeouts.yaxis.grid(True, which='minor', linewidth=0.1)\n",
    "ax_timeouts.set_ylim(0, 100)\n",
    "ax_timeouts.set_xticks([5, 10, 15, 20])\n",
    "\n",
    "plt.suptitle('Waveform dataset')\n",
    "\n",
    "fig.align_ylabels([ax_counts, ax_time, ax_timeouts])\n",
    "\n",
    "plt.tight_layout()\n",
    "plt.savefig('/home/aalvarez/Downloads/scalability_arity_wave.eps', bbox_inches='tight', pad_inches=0.05)\n",
    "plt.show()"
   ],
   "metadata": {
    "collapsed": false,
    "pycharm": {
     "name": "#%%\n"
    }
   }
  },
  {
   "cell_type": "code",
   "execution_count": 16,
   "outputs": [],
   "source": [],
   "metadata": {
    "collapsed": false,
    "pycharm": {
     "name": "#%%\n"
    }
   }
  }
 ],
 "metadata": {
  "kernelspec": {
   "display_name": "Python 3",
   "language": "python",
   "name": "python3"
  },
  "language_info": {
   "codemirror_mode": {
    "name": "ipython",
    "version": 2
   },
   "file_extension": ".py",
   "mimetype": "text/x-python",
   "name": "python",
   "nbconvert_exporter": "python",
   "pygments_lexer": "ipython2",
   "version": "2.7.6"
  }
 },
 "nbformat": 4,
 "nbformat_minor": 0
}