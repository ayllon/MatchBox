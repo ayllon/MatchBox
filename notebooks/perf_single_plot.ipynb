{
 "cells": [
  {
   "cell_type": "code",
   "execution_count": 1,
   "outputs": [],
   "source": [
    "import zipfile\n",
    "from typing import Dict, List\n",
    "\n",
    "import matplotlib.pyplot as plt\n",
    "import numpy as np\n",
    "import pandas\n",
    "from matplotlib import ticker\n",
    "from matplotlib.gridspec import GridSpec, SubplotSpec, GridSpecFromSubplotSpec\n",
    "from pandas import DataFrame\n",
    "\n",
    "from plot import bootstrap_samples_mean\n",
    "\n",
    "plt.style.use('seaborn')\n",
    "plt.style.use('seaborn-paper')\n",
    "plt.rcParams.update({\n",
    "    'figure.figsize': (3.6 * 2, 4.),\n",
    "    'text.usetex': True,\n",
    "    'legend.borderpad': 0,\n",
    "    'xtick.bottom': True,\n",
    "    'xtick.major.size': 2,\n",
    "    'xtick.minor.size': 1,\n",
    "    'lines.markersize': 3,\n",
    "    'lines.linewidth': 0.5,\n",
    "    'errorbar.capsize': 2,\n",
    "    'lines.markeredgewidth': 0.8\n",
    "})"
   ],
   "metadata": {
    "collapsed": false,
    "pycharm": {
     "name": "#%%\n"
    }
   }
  },
  {
   "cell_type": "code",
   "execution_count": 2,
   "outputs": [],
   "source": [
    "sampling_color = '#555555'\n",
    "uedd_color = '#006ba4'\n",
    "tedd_color = '#ff800e'\n",
    "nedd_g_color = '#ababab'\n",
    "nedd_ng_color = '#c85200'"
   ],
   "metadata": {
    "collapsed": false,
    "pycharm": {
     "name": "#%%\n"
    }
   }
  },
  {
   "cell_type": "code",
   "execution_count": 3,
   "outputs": [],
   "source": [
    "def compute_mean_err(index: np.ndarray, df: DataFrame, col: str, default: float = 0.):\n",
    "    mean = np.full(len(index), default)\n",
    "    err = np.zeros_like(mean)\n",
    "    for i, c in enumerate(index):\n",
    "        rows = df[df['columns'] == c]\n",
    "        if len(rows):\n",
    "            samples = bootstrap_samples_mean(rows[col])\n",
    "            mean[i], err[i] = np.mean(samples), np.std(samples)\n",
    "    return mean, err"
   ],
   "metadata": {
    "collapsed": false,
    "pycharm": {
     "name": "#%%\n"
    }
   }
  },
  {
   "cell_type": "code",
   "execution_count": 4,
   "outputs": [],
   "source": [
    "def load_scalability_results(run_id: str) -> Dict:\n",
    "    zip = zipfile.ZipFile(f'../results/{run_id}.zip')\n",
    "\n",
    "    # 1-EDD\n",
    "    uedd = pandas.read_csv(zip.open(f'{run_id}/uind.csv'))\n",
    "\n",
    "    # Sampling\n",
    "    sampling = pandas.read_csv(zip.open(f'{run_id}/sampling.csv'))\n",
    "\n",
    "    # 2-EDD\n",
    "    tedd = pandas.read_csv(zip.open(f'{run_id}/bootstrap.csv'))\n",
    "    assert (len(tedd) == len(uedd))\n",
    "    tedd['columns'] = uedd['columns']\n",
    "\n",
    "    # n-EDD (no growing stage)\n",
    "    names = ['id', 'columns', 'exact', 'bootstrap_alpha', 'time', 'tests', 'ind', 'unique_ind', 'timeout'] + list(\n",
    "        map(lambda i: f'max_{i}', range(9739)))\n",
    "    nedd_ng = pandas.read_csv(zip.open(f'{run_id}/findg_0.05_1.00_0.csv'), sep=',', names=names, skiprows=1,\n",
    "                              low_memory=False).dropna(axis=1, how='all')\n",
    "    nedd_ng_timeouts = nedd_ng[nedd_ng['timeout']].groupby('columns').size()\n",
    "    nedd_ng_timeouts /= nedd_ng.groupby('columns').size()\n",
    "\n",
    "    # n-EDD (with growing stage)\n",
    "    nedd_g = pandas.read_csv(zip.open(f'{run_id}/findg_0.05_1.00_1.csv'), sep=',', names=names, skiprows=1,\n",
    "                             low_memory=False).dropna(axis=1, how='all')\n",
    "    nedd_g_timeouts = nedd_g[nedd_g['timeout']].groupby('columns').size()\n",
    "    nedd_g_timeouts /= nedd_g.groupby('columns').size()\n",
    "\n",
    "    # Use the uEDD index as a reference\n",
    "    index = np.sort(uedd['columns'].unique())\n",
    "\n",
    "    # Use bootstrap to compute the run-time mean and its incertitude\n",
    "    sampling_mean, sampling_err = compute_mean_err(index, sampling, 'time')\n",
    "    uedd_time_mean, uedd_time_err = compute_mean_err(index, uedd, 'time')\n",
    "    tedd_time_mean, tedd_time_err = compute_mean_err(index, tedd, 'time')\n",
    "    nedd_ng_time_mean, nedd_ng_time_err = compute_mean_err(index, nedd_ng[~nedd_ng['timeout']], 'time', 50.)\n",
    "    nedd_g_time_mean, nedd_g_time_err = compute_mean_err(index, nedd_g[~nedd_g['timeout']], 'time', 50.)\n",
    "\n",
    "    # Use bootstrap to compute the acceptance and its incertitude\n",
    "    uedd_accepted_mean, uedd_accepted_err = compute_mean_err(index, uedd, 'uinds')\n",
    "    tedd_accepted_mean, tedd_accepted_err = compute_mean_err(index, tedd, 'accepted')\n",
    "    nedd_ng_accepted_mean, nedd_ng_accepted_err = compute_mean_err(index, nedd_ng[~nedd_ng['timeout']], 'unique_ind')\n",
    "    nedd_g_accepted_mean, nedd_g_accepted_err = compute_mean_err(index, nedd_g[~nedd_g['timeout']], 'unique_ind')\n",
    "\n",
    "    return {\n",
    "        'columns': index,\n",
    "        'sampling': (sampling_mean, sampling_err),\n",
    "        'uedd': {\n",
    "            'time': (uedd_time_mean, uedd_time_err),\n",
    "            'accepted': (uedd_accepted_mean, uedd_accepted_err)\n",
    "        },\n",
    "        'tedd': {\n",
    "            'time': (tedd_time_mean, tedd_time_err),\n",
    "            'accepted': (tedd_accepted_mean, tedd_accepted_err)\n",
    "        },\n",
    "        'nedd_ng': {\n",
    "            'time': (nedd_ng_time_mean, nedd_ng_time_err),\n",
    "            'accepted': (nedd_ng_accepted_mean, nedd_ng_accepted_err),\n",
    "            'timeouts': nedd_ng_timeouts\n",
    "        },\n",
    "        'nedd_g': {\n",
    "            'time': (nedd_g_time_mean, nedd_g_time_err),\n",
    "            'accepted': (nedd_g_accepted_mean, nedd_g_accepted_err),\n",
    "            'timeouts': nedd_g_timeouts\n",
    "        }\n",
    "    }"
   ],
   "metadata": {
    "collapsed": false,
    "pycharm": {
     "name": "#%%\n"
    }
   }
  },
  {
   "cell_type": "code",
   "execution_count": 5,
   "outputs": [],
   "source": [
    "wave = load_scalability_results('wave_20220511')\n",
    "keel = load_scalability_results('incremental_20220513')\n",
    "chembl = load_scalability_results('chembl_20220511')"
   ],
   "metadata": {
    "collapsed": false,
    "pycharm": {
     "name": "#%%\n"
    }
   }
  },
  {
   "cell_type": "code",
   "execution_count": 6,
   "outputs": [],
   "source": [
    "def plot_dataset(fig: plt.Figure, gs: SubplotSpec, results: Dict, title: str, sharey: List = None,\n",
    "                 bar_width: float = 1., legend: bool = False):\n",
    "    sub_gs = GridSpecFromSubplotSpec(nrows=5, ncols=1, subplot_spec=gs, hspace=0.25)\n",
    "\n",
    "    # EDD counts\n",
    "    ax_counts = fig.add_subplot(sub_gs[0:2])  #, sharey=sharey[0] if sharey else None)\n",
    "    uedd_line = ax_counts.errorbar(results['columns'], results['uedd']['accepted'][0],\n",
    "                                   yerr=results['uedd']['accepted'][1], label='1-EDD', color=uedd_color,\n",
    "                                   marker='.')\n",
    "    tedd_line = ax_counts.errorbar(results['columns'], results['tedd']['accepted'][0],\n",
    "                                   yerr=results['tedd']['accepted'][1], label='2-EDD', color=tedd_color,\n",
    "                                   marker='.')\n",
    "    nedd_ng_line = ax_counts.errorbar(results['columns'], results['nedd_ng']['accepted'][0],\n",
    "                                      yerr=results['nedd_ng']['accepted'][1], label='n-EDD', color=nedd_ng_color,\n",
    "                                      marker='.')\n",
    "    nedd_g_line = ax_counts.errorbar(results['columns'], results['nedd_g']['accepted'][0],\n",
    "                                     yerr=results['nedd_g']['accepted'][1], label='n-EDD (grow)', color=nedd_g_color,\n",
    "                                     marker='.')\n",
    "\n",
    "    ax_counts.yaxis.set_minor_locator(ticker.AutoMinorLocator(2))\n",
    "    ax_counts.yaxis.grid(True, which='minor', linewidth=0.1)\n",
    "    plt.setp(ax_counts.get_xticklabels(), visible=False)\n",
    "\n",
    "    # Time (cumulative)\n",
    "    ax_time = fig.add_subplot(sub_gs[2:4], sharex=ax_counts)  #, sharey=sharey[1] if sharey else None)\n",
    "    ax_time.errorbar(results['columns'], results['sampling'][0], yerr=results['sampling'][1], label='Sampling',\n",
    "                     color=sampling_color, zorder=10, marker='.')\n",
    "    ax_time.fill_between(results['columns'], results['sampling'][0], color=sampling_color, alpha=0.2)\n",
    "    bottom = results['sampling'][0]\n",
    "\n",
    "    acc = bottom + results['uedd']['time'][0]\n",
    "    ax_time.errorbar(results['columns'], acc, yerr=results['uedd']['time'][1], label='1-EDD time', color=uedd_color,\n",
    "                     marker='.')\n",
    "    ax_time.fill_between(results['columns'], bottom, acc, color=uedd_color, alpha=0.2)\n",
    "\n",
    "    bottom = acc\n",
    "    acc = bottom + results['tedd']['time'][0]\n",
    "    ax_time.errorbar(results['columns'], acc, yerr=results['tedd']['time'][1], label='2-EDD', color=tedd_color,\n",
    "                     marker='.')\n",
    "    ax_time.fill_between(results['columns'], bottom, acc, color=tedd_color, alpha=0.2)\n",
    "\n",
    "    bottom = acc\n",
    "    acc = bottom + results['nedd_ng']['time'][0]\n",
    "    ax_time.errorbar(results['columns'], acc, yerr=results['nedd_ng']['time'][1], label='n-EDD time',\n",
    "                     color=nedd_ng_color, marker='.')\n",
    "    ax_time.fill_between(results['columns'], bottom, acc, color=nedd_ng_color, alpha=0.2)\n",
    "\n",
    "    acc = bottom + results['nedd_g']['time'][0]\n",
    "    ax_time.errorbar(results['columns'], acc, yerr=results['nedd_g']['time'][1], label='n-EDD time (grow)',\n",
    "                     color=nedd_g_color, marker='.')\n",
    "    ax_time.fill_between(results['columns'], bottom, acc, color=nedd_g_color, alpha=0.2)\n",
    "    ax_time.yaxis.set_minor_locator(ticker.AutoMinorLocator(2))\n",
    "    ax_time.yaxis.grid(True, which='minor', linewidth=0.1)\n",
    "    plt.setp(ax_time.get_xticklabels(), visible=False)\n",
    "\n",
    "    # Timeouts\n",
    "    ax_timeouts = fig.add_subplot(sub_gs[4], sharex=ax_counts, sharey=sharey[2] if sharey else None)\n",
    "\n",
    "    ax_timeouts.bar(results['nedd_g']['timeouts'].index + bar_width / 2, results['nedd_g']['timeouts'] * 100,\n",
    "                    width=bar_width, color=nedd_g_color, label='Growing stage')\n",
    "    ax_timeouts.bar(results['nedd_ng']['timeouts'].index - bar_width / 2, results['nedd_ng']['timeouts'] * 100,\n",
    "                    width=bar_width, color=nedd_ng_color, label='No growing stage')\n",
    "    if legend:\n",
    "        ax_timeouts.set_xlabel('Columns')\n",
    "    ax_timeouts.yaxis.set_minor_locator(ticker.AutoMinorLocator(2))\n",
    "    ax_timeouts.yaxis.grid(True, which='minor', linewidth=0.1)\n",
    "    ax_timeouts.set_ylim(0, 100)\n",
    "    ax_timeouts.yaxis.set_major_formatter(ticker.StrMethodFormatter(\"${x:.0f}\\%$\"))\n",
    "\n",
    "    if sharey is None:\n",
    "        ax_counts.set_ylabel('Count')\n",
    "        ax_time.set_ylabel('Time (s)')\n",
    "        ax_timeouts.set_ylabel('Timeouts')\n",
    "\n",
    "    ax_counts.set_title(title)\n",
    "    fig.align_ylabels([ax_counts, ax_time, ax_timeouts])\n",
    "\n",
    "    if legend:\n",
    "        ax_timeouts.legend(handles=[uedd_line, tedd_line, nedd_ng_line, nedd_g_line], loc='lower center',\n",
    "                           bbox_to_anchor=(0.5, -1.4), ncol=4)\n",
    "\n",
    "    return [ax_counts, ax_time, ax_timeouts]"
   ],
   "metadata": {
    "collapsed": false,
    "pycharm": {
     "name": "#%%\n"
    }
   }
  },
  {
   "cell_type": "code",
   "execution_count": 7,
   "outputs": [
    {
     "data": {
      "text/plain": "<Figure size 432x288 with 9 Axes>",
      "image/png": "[encoded data removed]"
     },
     "metadata": {
      "needs_background": "light"
     },
     "output_type": "display_data"
    }
   ],
   "source": [
    "fig = plt.figure()\n",
    "\n",
    "gs = GridSpec(nrows=1, ncols=3, wspace=0.25)\n",
    "\n",
    "axes = plot_dataset(fig, gs[0], keel, title='KEEL Dataset', bar_width=5)\n",
    "plot_dataset(fig, gs[1], chembl, title='ChEMBL Database', sharey=axes, bar_width=3, legend=True)\n",
    "plot_dataset(fig, gs[2], wave, title='Waveform Generator', sharey=axes, bar_width=0.5)\n",
    "\n",
    "fig.savefig('/home/aalvarez/Downloads/scalability.pdf', bbox_inches='tight', pad_inches=0.05)"
   ],
   "metadata": {
    "collapsed": false,
    "pycharm": {
     "name": "#%%\n"
    }
   }
  },
  {
   "cell_type": "code",
   "execution_count": null,
   "outputs": [],
   "source": [],
   "metadata": {
    "collapsed": false,
    "pycharm": {
     "name": "#%%\n",
     "is_executing": true
    }
   }
  }
 ],
 "metadata": {
  "kernelspec": {
   "display_name": "Python 3",
   "language": "python",
   "name": "python3"
  },
  "language_info": {
   "codemirror_mode": {
    "name": "ipython",
    "version": 2
   },
   "file_extension": ".py",
   "mimetype": "text/x-python",
   "name": "python",
   "nbconvert_exporter": "python",
   "pygments_lexer": "ipython2",
   "version": "2.7.6"
  }
 },
 "nbformat": 4,
 "nbformat_minor": 0
}