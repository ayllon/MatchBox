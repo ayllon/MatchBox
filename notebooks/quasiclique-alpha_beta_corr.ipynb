{
 "cells": [
  {
   "cell_type": "code",
   "execution_count": 1,
   "id": "ordered-ridge",
   "metadata": {},
   "outputs": [],
   "source": [
    "%matplotlib inline\n",
    "from matplotlib import gridspec, cm\n",
    "from plot import bootstrap_samples_mean, StyleCycler\n",
    "from typing import List, Union, Callable\n",
    "import matplotlib.pyplot as plt\n",
    "import pandas\n",
    "import numpy as np\n",
    "import functools\n",
    "\n",
    "plt.style.use('seaborn')\n",
    "plt.style.use('seaborn-paper')\n",
    "plt.style.use('tableau-colorblind10')\n",
    "plt.rcParams.update({\n",
    "    'figure.figsize': (2.4, 1),\n",
    "    'text.usetex': True,\n",
    "    'axes.titlesize': 6,\n",
    "    'font.size': 5,\n",
    "    'ytick.labelsize': 2,\n",
    "    'xtick.labelsize': 2,\n",
    "    'axes.labelsize': 3,\n",
    "    'legend.fontsize': 4,\n",
    "    'legend.borderpad': 0,\n",
    "    'lines.markersize': 1,\n",
    "    'lines.linewidth': 0.5,\n",
    "    'errorbar.capsize': 2,\n",
    "    'ytick.major.pad': 2,\n",
    "    'xtick.major.pad': 2,\n",
    "    'axes.labelpad': 2,\n",
    "    'grid.linewidth': 0.1\n",
    "})"
   ]
  },
  {
   "cell_type": "markdown",
   "id": "indoor-anthony",
   "metadata": {
    "tags": []
   },
   "source": [
    "## Notes\n",
    "\n",
    "1. Chose a set of clique size (i.e. 10 / 15 / 20 / 30 or something like that)\n",
    "2. Aggregate by added (for a missing added) or by added (by a fixed missing)\n",
    "3. Plot ratio and time, which are the metrics"
   ]
  },
  {
   "cell_type": "code",
   "execution_count": 2,
   "id": "58ad134b-3d53-4926-92b9-a15e394dcc88",
   "metadata": {},
   "outputs": [],
   "source": [
    "default_algo = dict(\n",
    "    findqg_l000 = '$\\lambda = 0$',\n",
    "    findqg_l080 = '$\\lambda = 0.8$',\n",
    "    findqg_L005 = '$\\Lambda = 0.05$'\n",
    ")"
   ]
  },
  {
   "cell_type": "code",
   "execution_count": 3,
   "id": "f0ef0e2d-345f-4e5f-b901-89181df585aa",
   "metadata": {},
   "outputs": [],
   "source": [
    "def beta(alpha, k):\n",
    "    a=3.36\n",
    "    b=-3.71\n",
    "    c=0.13\n",
    "    d=-0.93\n",
    "    e=1.46\n",
    "    return np.log10(alpha)* a + b * np.log10(alpha) + c * k**2 + d * k + e\n",
    "\n",
    "def beta2(alpha, k):\n",
    "    a=2.21\n",
    "    b=-2.64\n",
    "    c=0.03\n",
    "    d=-0.20\n",
    "    e=0.62\n",
    "    return np.log10(alpha)* a + b * np.log10(alpha) + c * k**2 + d * k + e"
   ]
  },
  {
   "cell_type": "code",
   "execution_count": 4,
   "id": "721933c3-5c31-47b8-8155-cc511dc6de8e",
   "metadata": {},
   "outputs": [],
   "source": [
    "def plot_results(raw: pandas.DataFrame, fix:dict, groupby: str, algorithms: dict=default_algo, xlabel: str=None, fig=None, gs=None, title:str=None,\n",
    "                 ylabel:bool = False, legend: bool=False, beta:Callable=beta):\n",
    "    nsamples = 500\n",
    "    \n",
    "    cycler = StyleCycler(['o', 's', 'D'], ['--', '-.', ':'], plt.rcParams['axes.prop_cycle'])\n",
    "    \n",
    "    if fig is None:\n",
    "        fig = plt.figure(figsize=(8, 8))\n",
    "    \n",
    "    mask = functools.reduce(lambda a, b: a & b, [raw[k] == v for k, v in fix.items()])\n",
    "    masked = raw[mask]\n",
    "\n",
    "    agg_mean = dict()\n",
    "    agg_std = dict()\n",
    "    for name, grp in masked.groupby(groupby):\n",
    "        sample_means = pandas.DataFrame([grp.sample(frac=1, replace=True).mean() for _ in range(nsamples)])\n",
    "        agg_mean[name] = sample_means.mean()\n",
    "        agg_std[name] = sample_means.std()\n",
    "    agg_mean = pandas.DataFrame(agg_mean).T\n",
    "    agg_std = pandas.DataFrame(agg_std).T\n",
    "    \n",
    "    agg_timeout = masked.groupby([groupby]).agg({f'{algo}_time': lambda x: x.isnull().sum() for algo in algorithms}).astype(int)\n",
    "    \n",
    "    if gs is None:\n",
    "        grid = gridspec.GridSpec(ncols=1, nrows=3, hspace=0, figure=fig)\n",
    "    else:\n",
    "        grid = gridspec.GridSpecFromSubplotSpec(ncols=1, nrows=3, hspace=0.15, subplot_spec=gs)\n",
    "       \n",
    "    # Ratio\n",
    "    ax_ratio = fig.add_subplot(grid[0, 0])\n",
    "    for (algo, label), (marker, line, color) in zip(algorithms.items(), cycler):\n",
    "        ax_ratio.errorbar(agg_mean.index, agg_mean[f'{algo}_jaccard'], yerr=agg_std[f'{algo}_jaccard'],\n",
    "                          marker=marker, linestyle=line,\n",
    "                          label=label, c=color)\n",
    "    if title:\n",
    "        ax_ratio.set_title(title)\n",
    "        \n",
    "    # Time\n",
    "    ax_time = fig.add_subplot(grid[1, 0], sharex=ax_ratio)\n",
    "    for (algo, label), (marker, line, color) in zip(algorithms.items(), cycler):\n",
    "        ax_time.errorbar(agg_mean.index, agg_mean[f'{algo}_time'], yerr=agg_std[f'{algo}_time'],\n",
    "                         marker=marker, linestyle=line,\n",
    "                         label=label, c=color)\n",
    "    \n",
    "    ax_time.set_xticks(agg_mean.index)\n",
    "    ax_time.set_ylim(0)\n",
    "    \n",
    "    # Timeouts\n",
    "    if len(agg_mean.index) > 2:\n",
    "        bar_width = (agg_mean.index[-1] - agg_mean.index[-2])/2.\n",
    "    else:\n",
    "        bar_width = 0.01\n",
    "    \n",
    "    ax_timeout = fig.add_subplot(grid[2, 0], sharex=ax_ratio)\n",
    "    bottom = np.zeros(len(agg_timeout.index))\n",
    "    for (algo, label), (marker, line, color) in zip(algorithms.items(), cycler):\n",
    "        ax_timeout.bar(agg_timeout.index, agg_timeout[f'{algo}_time'], bottom=bottom,\n",
    "                       width=bar_width, label=label, color=color)\n",
    "        bottom += agg_timeout[f'{algo}_time']\n",
    "   \n",
    "    ax_timeout.set_xlabel(xlabel)\n",
    "    if not np.any(bottom>0):\n",
    "        ax_timeout.set_ylim(0, 1)\n",
    "        ax_timeout.set_yticks([0,])\n",
    "    ax_timeout.grid(False)\n",
    "    \n",
    "    plt.setp(ax_ratio.get_xaxis(), visible=False)\n",
    "    plt.setp(ax_time.get_xaxis(), visible=False)\n",
    "    \n",
    "    # Beta\n",
    "    ax_beta = ax_timeout.twiny()\n",
    "    ax_beta.set_xlim(*ax_time.get_xlim())\n",
    "    ax_beta.set_xticks(agg_mean.index)\n",
    "    ax_beta.set_xticklabels([f'{beta(a, fix[\"rank\"]):.2f}' for a in agg_mean.index])\n",
    "    ax_beta.set_xlabel('$\\\\beta$')\n",
    "    ax_beta.set_frame_on(True)\n",
    "    ax_beta.patch.set_visible(False)\n",
    "    ax_beta.grid(False)\n",
    "    \n",
    "    for sp in ax_beta.spines.values():\n",
    "        sp.set_visible(False)\n",
    "    ax_beta.spines[\"bottom\"].set_visible(True)\n",
    "    ax_beta.xaxis.set_ticks_position(\"bottom\")\n",
    "    ax_beta.xaxis.set_label_position(\"bottom\")\n",
    "    ax_beta.spines[\"bottom\"].set_position((\"axes\", -0.6))\n",
    "       \n",
    "    if legend:\n",
    "        ax_timeout.legend(loc='upper center', bbox_to_anchor=(0.5, -1.1), ncol=len(algorithms))\n",
    "        \n",
    "    if ylabel:\n",
    "        ax_ratio.set_ylabel('Jaccard index')\n",
    "        ax_time.set_ylabel('Time (s)')\n",
    "        ax_timeout.set_ylabel('Timeouts')\n",
    "        fig.align_ylabels([ax_ratio, ax_time, ax_timeout])\n",
    "        \n",
    "    return fig"
   ]
  },
  {
   "cell_type": "code",
   "execution_count": 5,
   "id": "allied-colorado",
   "metadata": {},
   "outputs": [],
   "source": [
    "la_results = pandas.read_csv('../results/quasi_Lambda_both.csv', index_col=0)"
   ]
  },
  {
   "cell_type": "code",
   "execution_count": 6,
   "id": "943c4455-3e7c-4d6c-b7e2-8307c3d25c9d",
   "metadata": {},
   "outputs": [
    {
     "data": {
      "image/png": "[encoded data removed]",
      "text/plain": [
       "<Figure size 172.8x72 with 12 Axes>"
      ]
     },
     "metadata": {},
     "output_type": "display_data"
    }
   ],
   "source": [
    "fig = plt.figure()\n",
    "gs0 = gridspec.GridSpec(ncols=3, nrows=1, figure=fig, wspace=0.2)\n",
    "\n",
    "plot_results(la_results, dict(clique=10, rank=2), groupby='missing', xlabel='$\\\\alpha$', fig=fig, gs=gs0[0], title='k=2', ylabel=True)\n",
    "plot_results(la_results, dict(clique=10, rank=3), groupby='missing', xlabel='$\\\\alpha$', fig=fig, gs=gs0[1], title='k=3', legend=True)\n",
    "plot_results(la_results, dict(clique=10, rank=4), groupby='missing', xlabel='$\\\\alpha$', fig=fig, gs=gs0[2], title='k=4')\n",
    "\n",
    "fig.savefig('/home/aalvarez/Downloads/quasi_corr_10.eps', bbox_inches='tight', pad_inches=0.05)\n",
    "\n",
    "plt.show()"
   ]
  },
  {
   "cell_type": "code",
   "execution_count": 7,
   "id": "1ba7dc9c-4a43-4025-9e46-c2acaf15bc54",
   "metadata": {},
   "outputs": [
    {
     "data": {
      "image/png": "[encoded data removed]",
      "text/plain": [
       "<Figure size 172.8x72 with 12 Axes>"
      ]
     },
     "metadata": {},
     "output_type": "display_data"
    }
   ],
   "source": [
    "fig = plt.figure()\n",
    "gs0 = gridspec.GridSpec(ncols=3, nrows=1, figure=fig, wspace=0.2)\n",
    "\n",
    "plot_results(la_results, dict(clique=20, rank=2), groupby='missing', xlabel='$\\\\alpha$', fig=fig, gs=gs0[0], title='k=2', ylabel=True)\n",
    "plot_results(la_results, dict(clique=20, rank=3), groupby='missing', xlabel='$\\\\alpha$', fig=fig, gs=gs0[1], title='k=3', legend=True)\n",
    "plot_results(la_results, dict(clique=20, rank=4), groupby='missing', xlabel='$\\\\alpha$', fig=fig, gs=gs0[2], title='k=4')\n",
    "\n",
    "fig.savefig('/home/aalvarez/Downloads/quasi_corr_20.eps', bbox_inches='tight', pad_inches=0.05)\n",
    "\n",
    "plt.show()"
   ]
  },
  {
   "cell_type": "code",
   "execution_count": 8,
   "id": "4153bba7-3c1d-4116-ab1f-afa952f4ddbd",
   "metadata": {},
   "outputs": [
    {
     "name": "stderr",
     "output_type": "stream",
     "text": [
      "/opt/miniconda3/envs/matchbox/lib/python3.8/site-packages/matplotlib/axes/_base.py:2283: UserWarning: Warning: converting a masked element to nan.\n",
      "  xys = np.asarray(xys)\n",
      "/opt/miniconda3/envs/matchbox/lib/python3.8/site-packages/matplotlib/axes/_base.py:2283: UserWarning: Warning: converting a masked element to nan.\n",
      "  xys = np.asarray(xys)\n",
      "/opt/miniconda3/envs/matchbox/lib/python3.8/site-packages/matplotlib/axes/_base.py:2283: UserWarning: Warning: converting a masked element to nan.\n",
      "  xys = np.asarray(xys)\n",
      "/opt/miniconda3/envs/matchbox/lib/python3.8/site-packages/matplotlib/axes/_base.py:2283: UserWarning: Warning: converting a masked element to nan.\n",
      "  xys = np.asarray(xys)\n",
      "/opt/miniconda3/envs/matchbox/lib/python3.8/site-packages/matplotlib/axes/_base.py:2283: UserWarning: Warning: converting a masked element to nan.\n",
      "  xys = np.asarray(xys)\n",
      "/opt/miniconda3/envs/matchbox/lib/python3.8/site-packages/matplotlib/axes/_base.py:2283: UserWarning: Warning: converting a masked element to nan.\n",
      "  xys = np.asarray(xys)\n"
     ]
    },
    {
     "data": {
      "image/png": "[encoded data removed]",
      "text/plain": [
       "<Figure size 172.8x72 with 12 Axes>"
      ]
     },
     "metadata": {},
     "output_type": "display_data"
    }
   ],
   "source": [
    "fig = plt.figure()\n",
    "gs0 = gridspec.GridSpec(ncols=3, nrows=1, figure=fig, wspace=0.2)\n",
    "\n",
    "plot_results(la_results, dict(clique=30, rank=2), groupby='missing', xlabel='$\\\\alpha$', fig=fig, gs=gs0[0], title='k=2', ylabel=True)\n",
    "plot_results(la_results, dict(clique=30, rank=3), groupby='missing', xlabel='$\\\\alpha$', fig=fig, gs=gs0[1], title='k=3', legend=True)\n",
    "plot_results(la_results, dict(clique=30, rank=4), groupby='missing', xlabel='$\\\\alpha$', fig=fig, gs=gs0[2], title='k=4')\n",
    "\n",
    "fig.savefig('/home/aalvarez/Downloads/quasi_corr_30.eps', bbox_inches='tight', pad_inches=0.05)\n",
    "\n",
    "plt.show()"
   ]
  },
  {
   "cell_type": "markdown",
   "id": "e9f153f7-3b59-49ce-9719-1881c3607d1c",
   "metadata": {},
   "source": [
    "# Different correlation"
   ]
  },
  {
   "cell_type": "code",
   "execution_count": 9,
   "id": "55805181-116e-4856-8761-53237e2da464",
   "metadata": {},
   "outputs": [],
   "source": [
    "la2_results = pandas.read_csv('../results/quasi_Lambda_mean.csv', index_col=0)"
   ]
  },
  {
   "cell_type": "code",
   "execution_count": 10,
   "id": "c30ff639-c34c-45cd-8c15-767df708544a",
   "metadata": {},
   "outputs": [
    {
     "data": {
      "image/png": "[encoded data removed]",
      "text/plain": [
       "<Figure size 172.8x72 with 12 Axes>"
      ]
     },
     "metadata": {},
     "output_type": "display_data"
    }
   ],
   "source": [
    "fig = plt.figure()\n",
    "gs0 = gridspec.GridSpec(ncols=3, nrows=1, figure=fig, wspace=0.2)\n",
    "\n",
    "plot_results(la2_results, dict(clique=10, rank=2), groupby='missing', xlabel='$\\\\alpha$', fig=fig, gs=gs0[0], title='k=2', beta=beta2, ylabel=True)\n",
    "plot_results(la2_results, dict(clique=10, rank=3), groupby='missing', xlabel='$\\\\alpha$', fig=fig, gs=gs0[1], title='k=3', beta=beta2)\n",
    "plot_results(la2_results, dict(clique=10, rank=4), groupby='missing', xlabel='$\\\\alpha$', fig=fig, gs=gs0[2], title='k=4', beta=beta2, legend=True)\n",
    "\n",
    "plt.show()"
   ]
  },
  {
   "cell_type": "code",
   "execution_count": 11,
   "id": "2b2f650c-1575-40a6-ac41-b1fec2ab3ba7",
   "metadata": {},
   "outputs": [
    {
     "data": {
      "image/png": "[encoded data removed]",
      "text/plain": [
       "<Figure size 172.8x72 with 8 Axes>"
      ]
     },
     "metadata": {},
     "output_type": "display_data"
    }
   ],
   "source": [
    "fig = plt.figure()\n",
    "gs0 = gridspec.GridSpec(ncols=2, nrows=1, figure=fig, wspace=0.2)\n",
    "\n",
    "plot_results(la2_results, dict(clique=20, rank=2), groupby='missing', xlabel='$\\\\alpha$', fig=fig, gs=gs0[0], title='k=2', beta=beta2, ylabel=True)\n",
    "plot_results(la2_results, dict(clique=20, rank=3), groupby='missing', xlabel='$\\\\alpha$', fig=fig, gs=gs0[1], title='k=3', beta=beta2, legend=True)\n",
    "#plot_results(la2_results, dict(clique=20, rank=4), groupby='missing', xlabel='$\\\\alpha$', fig=fig, gs=gs0[2], title='k=4', beta=beta2)\n",
    "\n",
    "plt.show()"
   ]
  },
  {
   "cell_type": "code",
   "execution_count": null,
   "id": "a170246a-08c2-4d40-9856-9e94b43cf025",
   "metadata": {},
   "outputs": [],
   "source": []
  }
 ],
 "metadata": {
  "kernelspec": {
   "display_name": "Python 3 (ipykernel)",
   "language": "python",
   "name": "python3"
  },
  "language_info": {
   "codemirror_mode": {
    "name": "ipython",
    "version": 3
   },
   "file_extension": ".py",
   "mimetype": "text/x-python",
   "name": "python",
   "nbconvert_exporter": "python",
   "pygments_lexer": "ipython3",
   "version": "3.8.12"
  }
 },
 "nbformat": 4,
 "nbformat_minor": 5
}
