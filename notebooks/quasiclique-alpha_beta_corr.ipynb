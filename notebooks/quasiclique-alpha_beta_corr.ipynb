{
 "cells": [
  {
   "cell_type": "code",
   "execution_count": 1,
   "id": "ordered-ridge",
   "metadata": {},
   "outputs": [],
   "source": [
    "%matplotlib inline\n",
    "from matplotlib import gridspec, cm\n",
    "from plot import bootstrap_samples_mean, StyleCycler\n",
    "from typing import List, Union\n",
    "import matplotlib.pyplot as plt\n",
    "from matplotlib import ticker\n",
    "import pandas\n",
    "import numpy as np\n",
    "import functools\n",
    "\n",
    "plt.style.use('seaborn')\n",
    "plt.style.use('seaborn-paper')\n",
    "plt.style.use('tableau-colorblind10')\n",
    "plt.rcParams.update({\n",
    "    'figure.figsize': (3.6, 2.23),\n",
    "    'text.usetex': True,\n",
    "    'legend.borderpad': 0,\n",
    "    'xtick.bottom': True,\n",
    "    'xtick.major.size': 2,\n",
    "    'xtick.minor.size': 1,\n",
    "    'lines.markersize': 3,\n",
    "    'lines.linewidth': 0.5,\n",
    "    'errorbar.capsize': 4,\n",
    "    'lines.markeredgewidth': 0.8\n",
    "})"
   ]
  },
  {
   "cell_type": "markdown",
   "id": "indoor-anthony",
   "metadata": {
    "tags": []
   },
   "source": [
    "## Notes\n",
    "\n",
    "1. Chose a set of clique size (i.e. 10 / 15 / 20 / 30 or something like that)\n",
    "2. Aggregate by added (for a missing added) or by added (by a fixed missing)\n",
    "3. Plot ratio and time, which are the metrics"
   ]
  },
  {
   "cell_type": "code",
   "execution_count": 2,
   "id": "58ad134b-3d53-4926-92b9-a15e394dcc88",
   "metadata": {},
   "outputs": [],
   "source": [
    "default_algo = dict(\n",
    "    findqg_l000 = '$\\lambda = 0$',\n",
    "    findqg_l080 = '$\\lambda = 0.8$',\n",
    "    findqg_L005 = '$\\Lambda = 0.05$'\n",
    ")"
   ]
  },
  {
   "cell_type": "code",
   "execution_count": 3,
   "id": "f0ef0e2d-345f-4e5f-b901-89181df585aa",
   "metadata": {},
   "outputs": [],
   "source": [
    "def beta(alpha, k):\n",
    "    a=3.36\n",
    "    b=-3.71\n",
    "    c=0.13\n",
    "    d=-0.93\n",
    "    e=1.46\n",
    "    return np.log10(alpha)* a + b * np.log10(alpha) + c * k**2 + d * k + e\n",
    "\n",
    "def beta2(alpha, k):\n",
    "    a=2.21\n",
    "    b=-2.64\n",
    "    c=0.03\n",
    "    d=-0.20\n",
    "    e=0.62\n",
    "    return np.log10(alpha)* a + b * np.log10(alpha) + c * k**2 + d * k + e"
   ]
  },
  {
   "cell_type": "code",
   "execution_count": 4,
   "id": "721933c3-5c31-47b8-8155-cc511dc6de8e",
   "metadata": {},
   "outputs": [],
   "source": [
    "def plot_results(raw: pandas.DataFrame, fix:dict, groupby: str, algorithms: dict=default_algo, xlabel: str=None, fig=None, gs=None, title:str=None,\n",
    "                 ylabel:bool=False, legend: bool=False, sharey: List = []):\n",
    "    nsamples = 500\n",
    "    \n",
    "    cycler = StyleCycler(['o', 's', 'D'], ['--', '-.', ':'], plt.rcParams['axes.prop_cycle'])\n",
    "    \n",
    "    if fig is None:\n",
    "        fig = plt.figure()\n",
    "    \n",
    "    mask = functools.reduce(lambda a, b: a & b, [raw[k] == v for k, v in fix.items()])\n",
    "    masked = raw[mask]\n",
    "\n",
    "    agg_mean = dict()\n",
    "    agg_std = dict()\n",
    "    for name, grp in masked.groupby(groupby):\n",
    "        sample_means = pandas.DataFrame([grp.sample(frac=1, replace=True).mean() for _ in range(nsamples)])\n",
    "        agg_mean[name] = sample_means.mean()\n",
    "        agg_std[name] = sample_means.std()\n",
    "    agg_mean = pandas.DataFrame(agg_mean).T\n",
    "    agg_std = pandas.DataFrame(agg_std).T\n",
    "    \n",
    "    agg_timeout = masked.groupby([groupby]).agg({f'{algo}_time': lambda x: x.isnull().sum() for algo in algorithms})\n",
    "    agg_timeout /= masked.groupby([groupby]).agg({f'{algo}_time': lambda x: len(x) for algo in algorithms})\n",
    "    agg_timeout *= 100\n",
    "    \n",
    "    if gs is None:\n",
    "        grid = gridspec.GridSpec(ncols=1, nrows=3, hspace=0, figure=fig)\n",
    "    else:\n",
    "        grid = gridspec.GridSpecFromSubplotSpec(ncols=1, nrows=3, hspace=0.15, subplot_spec=gs)\n",
    "       \n",
    "    # Ratio\n",
    "    ax_ratio = fig.add_subplot(grid[0, 0], sharey=sharey[0] if sharey else None)\n",
    "    for (algo, label), (marker, line, color) in zip(algorithms.items(), cycler):\n",
    "        ax_ratio.errorbar(agg_mean.index, agg_mean[f'{algo}_jaccard'], yerr=agg_std[f'{algo}_jaccard'],\n",
    "                          marker=marker, linestyle=line,\n",
    "                          label=label, c=color)        \n",
    "    if title:\n",
    "        ax_ratio.set_title(title)\n",
    "    ax_ratio.yaxis.set_minor_locator(ticker.AutoMinorLocator(2))\n",
    "    ax_ratio.yaxis.grid(True, which='minor', linewidth=0.1)\n",
    "    \n",
    "    # Time\n",
    "    ax_time = fig.add_subplot(grid[1, 0], sharex=ax_ratio, sharey=sharey[1] if sharey else None)\n",
    "    for (algo, label), (marker, line, color) in zip(algorithms.items(), cycler):\n",
    "        ax_time.errorbar(agg_mean.index, agg_mean[f'{algo}_time'], yerr=agg_std[f'{algo}_time'],\n",
    "                         marker=marker, linestyle=line,\n",
    "                         label=label, c=color)\n",
    "        \n",
    "    ax_time.set_yscale('log')\n",
    "               \n",
    "    # Timeouts\n",
    "    ax_timeout = None\n",
    "    ax_time.set_xlabel(xlabel, labelpad=0)\n",
    "    ax_time.set_xticks(agg_mean.index[1::2])\n",
    "    ax_time.xaxis.set_minor_locator(ticker.AutoMinorLocator(2))\n",
    "    ax_time.xaxis.grid(False)\n",
    "    \n",
    "    plt.setp(ax_ratio.get_xaxis(), visible=False)\n",
    "    if ax_timeout:\n",
    "        plt.setp(ax_time.get_xaxis(), visible=False)\n",
    "\n",
    "    if ylabel:\n",
    "        ax_ratio.set_ylabel('Jaccard idx.')\n",
    "        ax_time.set_ylabel('Time (s)')\n",
    "        if ax_timeout:\n",
    "            ax_timeout.set_ylabel('Timeouts')\n",
    "        fig.align_ylabels([ax_ratio, ax_time, ax_timeout])\n",
    "    \n",
    "    if sharey:\n",
    "        plt.setp(ax_ratio.get_yticklabels(), visible=False)\n",
    "        plt.setp(ax_time.get_yticklabels(), visible=False)\n",
    "        if ax_timeout:\n",
    "            plt.setp(ax_timeout.get_yticklabels(), visible=False)\n",
    "    \n",
    "    ax = ax_timeout if ax_timeout else ax_time\n",
    "    # Beta\n",
    "    ax_beta = ax.twiny()\n",
    "    ax_beta.set_xlim(*ax_time.get_xlim())\n",
    "    ax_beta.set_xticks(agg_mean.index[1::2])\n",
    "    ax_beta.set_xticklabels([f'{beta(a, fix[\"rank\"]):.2f}' for a in agg_mean.index[1::2]])\n",
    "    ax_beta.set_xlabel('$\\\\beta$', labelpad=0)\n",
    "    ax_beta.set_frame_on(True)\n",
    "    ax_beta.patch.set_visible(False)\n",
    "    ax_beta.grid(False)\n",
    "    ax_beta.xaxis.set_ticks_position(\"bottom\")\n",
    "    ax_beta.xaxis.set_label_position(\"bottom\")\n",
    "    ax_beta.spines[\"bottom\"].set_position((\"axes\", -0.5))\n",
    "    \n",
    "    if legend:\n",
    "        ax.legend(loc='upper center', bbox_to_anchor=(0.5, -1.2), ncol=len(algorithms))\n",
    "    \n",
    "    return fig, ax_ratio, ax_time, ax_timeout"
   ]
  },
  {
   "cell_type": "code",
   "execution_count": 5,
   "id": "allied-colorado",
   "metadata": {},
   "outputs": [],
   "source": [
    "la_results = pandas.read_csv('../results/quasi_Lambda_both.csv', index_col=0)"
   ]
  },
  {
   "cell_type": "raw",
   "id": "49ae3981-0745-49d3-b5ef-04f9950740d8",
   "metadata": {},
   "source": [
    "fig = plt.figure()\n",
    "gs0 = gridspec.GridSpec(ncols=3, nrows=1, figure=fig, wspace=0.2)\n",
    "\n",
    "_, ax_ratio, ax_time, ax_timeout = plot_results(la_results, dict(clique=10, rank=2), groupby='missing', xlabel='$\\\\alpha$', fig=fig, gs=gs0[0], title='k=2', ylabel=True)\n",
    "plot_results(la_results, dict(clique=10, rank=3), groupby='missing', xlabel='$\\\\alpha$', fig=fig, gs=gs0[1], title='k=3', legend=True, sharey=[ax_ratio, ax_time, ax_timeout])\n",
    "plot_results(la_results, dict(clique=10, rank=4), groupby='missing', xlabel='$\\\\alpha$', fig=fig, gs=gs0[2], title='k=4', sharey=[ax_ratio, ax_time, ax_timeout])\n",
    "\n",
    "fig.savefig('/home/aalvarez/Downloads/quasi_corr_10.eps', bbox_inches='tight', pad_inches=0.05)\n",
    "\n",
    "plt.show()"
   ]
  },
  {
   "cell_type": "code",
   "execution_count": 6,
   "id": "1ba7dc9c-4a43-4025-9e46-c2acaf15bc54",
   "metadata": {},
   "outputs": [
    {
     "data": {
      "image/png": "[encoded data removed]",
      "text/plain": [
       "<Figure size 259.2x160.56 with 9 Axes>"
      ]
     },
     "metadata": {},
     "output_type": "display_data"
    }
   ],
   "source": [
    "fig = plt.figure()\n",
    "gs0 = gridspec.GridSpec(ncols=3, nrows=1, figure=fig, wspace=0.05)\n",
    "\n",
    "_, ax_ratio, ax_time, ax_timeout = plot_results(la_results, dict(clique=20, rank=2), groupby='missing', xlabel='$\\\\alpha$', fig=fig, gs=gs0[0], title='k=2', ylabel=True)\n",
    "plot_results(la_results, dict(clique=20, rank=3), groupby='missing', xlabel='$\\\\alpha$', fig=fig, gs=gs0[1], title='k=3', legend=True, sharey=[ax_ratio, ax_time, ax_timeout])\n",
    "plot_results(la_results, dict(clique=20, rank=4), groupby='missing', xlabel='$\\\\alpha$', fig=fig, gs=gs0[2], title='k=4', sharey=[ax_ratio, ax_time, ax_timeout])\n",
    "\n",
    "fig.savefig('/home/aalvarez/Downloads/quasi_corr_20.eps', bbox_inches='tight', pad_inches=0.05)\n",
    "\n",
    "plt.show()"
   ]
  },
  {
   "cell_type": "code",
   "execution_count": 7,
   "id": "4153bba7-3c1d-4116-ab1f-afa952f4ddbd",
   "metadata": {},
   "outputs": [
    {
     "data": {
      "image/png": "[encoded data removed]",
      "text/plain": [
       "<Figure size 259.2x160.56 with 9 Axes>"
      ]
     },
     "metadata": {},
     "output_type": "display_data"
    }
   ],
   "source": [
    "fig = plt.figure()\n",
    "gs0 = gridspec.GridSpec(ncols=3, nrows=1, figure=fig, wspace=0.2)\n",
    "\n",
    "plot_results(la_results, dict(clique=30, rank=2), groupby='missing', xlabel='$\\\\alpha$', fig=fig, gs=gs0[0], title='k=2', ylabel=True)\n",
    "plot_results(la_results, dict(clique=30, rank=3), groupby='missing', xlabel='$\\\\alpha$', fig=fig, gs=gs0[1], title='k=3', legend=True)\n",
    "plot_results(la_results, dict(clique=30, rank=4), groupby='missing', xlabel='$\\\\alpha$', fig=fig, gs=gs0[2], title='k=4')\n",
    "\n",
    "fig.savefig('/home/aalvarez/Downloads/quasi_corr_30.eps', bbox_inches='tight', pad_inches=0.05)\n",
    "\n",
    "plt.show()"
   ]
  },
  {
   "cell_type": "markdown",
   "id": "e9f153f7-3b59-49ce-9719-1881c3607d1c",
   "metadata": {},
   "source": [
    "# Different correlation"
   ]
  },
  {
   "cell_type": "code",
   "execution_count": 8,
   "id": "55805181-116e-4856-8761-53237e2da464",
   "metadata": {},
   "outputs": [],
   "source": [
    "la2_results = pandas.read_csv('../results/quasi_Lambda_mean.csv', index_col=0)"
   ]
  },
  {
   "cell_type": "code",
   "execution_count": 9,
   "id": "c30ff639-c34c-45cd-8c15-767df708544a",
   "metadata": {},
   "outputs": [
    {
     "ename": "TypeError",
     "evalue": "plot_results() got an unexpected keyword argument 'beta'",
     "output_type": "error",
     "traceback": [
      "\u001B[0;31m---------------------------------------------------------------------------\u001B[0m",
      "\u001B[0;31mTypeError\u001B[0m                                 Traceback (most recent call last)",
      "Input \u001B[0;32mIn [9]\u001B[0m, in \u001B[0;36m<cell line: 4>\u001B[0;34m()\u001B[0m\n\u001B[1;32m      1\u001B[0m fig \u001B[38;5;241m=\u001B[39m plt\u001B[38;5;241m.\u001B[39mfigure()\n\u001B[1;32m      2\u001B[0m gs0 \u001B[38;5;241m=\u001B[39m gridspec\u001B[38;5;241m.\u001B[39mGridSpec(ncols\u001B[38;5;241m=\u001B[39m\u001B[38;5;241m3\u001B[39m, nrows\u001B[38;5;241m=\u001B[39m\u001B[38;5;241m1\u001B[39m, figure\u001B[38;5;241m=\u001B[39mfig, wspace\u001B[38;5;241m=\u001B[39m\u001B[38;5;241m0.2\u001B[39m)\n\u001B[0;32m----> 4\u001B[0m \u001B[43mplot_results\u001B[49m\u001B[43m(\u001B[49m\u001B[43mla2_results\u001B[49m\u001B[43m,\u001B[49m\u001B[43m \u001B[49m\u001B[38;5;28;43mdict\u001B[39;49m\u001B[43m(\u001B[49m\u001B[43mclique\u001B[49m\u001B[38;5;241;43m=\u001B[39;49m\u001B[38;5;241;43m10\u001B[39;49m\u001B[43m,\u001B[49m\u001B[43m \u001B[49m\u001B[43mrank\u001B[49m\u001B[38;5;241;43m=\u001B[39;49m\u001B[38;5;241;43m2\u001B[39;49m\u001B[43m)\u001B[49m\u001B[43m,\u001B[49m\u001B[43m \u001B[49m\u001B[43mgroupby\u001B[49m\u001B[38;5;241;43m=\u001B[39;49m\u001B[38;5;124;43m'\u001B[39;49m\u001B[38;5;124;43mmissing\u001B[39;49m\u001B[38;5;124;43m'\u001B[39;49m\u001B[43m,\u001B[49m\u001B[43m \u001B[49m\u001B[43mxlabel\u001B[49m\u001B[38;5;241;43m=\u001B[39;49m\u001B[38;5;124;43m'\u001B[39;49m\u001B[38;5;124;43m$\u001B[39;49m\u001B[38;5;130;43;01m\\\\\u001B[39;49;00m\u001B[38;5;124;43malpha$\u001B[39;49m\u001B[38;5;124;43m'\u001B[39;49m\u001B[43m,\u001B[49m\u001B[43m \u001B[49m\u001B[43mfig\u001B[49m\u001B[38;5;241;43m=\u001B[39;49m\u001B[43mfig\u001B[49m\u001B[43m,\u001B[49m\u001B[43m \u001B[49m\u001B[43mgs\u001B[49m\u001B[38;5;241;43m=\u001B[39;49m\u001B[43mgs0\u001B[49m\u001B[43m[\u001B[49m\u001B[38;5;241;43m0\u001B[39;49m\u001B[43m]\u001B[49m\u001B[43m,\u001B[49m\u001B[43m \u001B[49m\u001B[43mtitle\u001B[49m\u001B[38;5;241;43m=\u001B[39;49m\u001B[38;5;124;43m'\u001B[39;49m\u001B[38;5;124;43mk=2\u001B[39;49m\u001B[38;5;124;43m'\u001B[39;49m\u001B[43m,\u001B[49m\u001B[43m \u001B[49m\u001B[43mbeta\u001B[49m\u001B[38;5;241;43m=\u001B[39;49m\u001B[43mbeta2\u001B[49m\u001B[43m,\u001B[49m\u001B[43m \u001B[49m\u001B[43mylabel\u001B[49m\u001B[38;5;241;43m=\u001B[39;49m\u001B[38;5;28;43;01mTrue\u001B[39;49;00m\u001B[43m)\u001B[49m\n\u001B[1;32m      5\u001B[0m plot_results(la2_results, \u001B[38;5;28mdict\u001B[39m(clique\u001B[38;5;241m=\u001B[39m\u001B[38;5;241m10\u001B[39m, rank\u001B[38;5;241m=\u001B[39m\u001B[38;5;241m3\u001B[39m), groupby\u001B[38;5;241m=\u001B[39m\u001B[38;5;124m'\u001B[39m\u001B[38;5;124mmissing\u001B[39m\u001B[38;5;124m'\u001B[39m, xlabel\u001B[38;5;241m=\u001B[39m\u001B[38;5;124m'\u001B[39m\u001B[38;5;124m$\u001B[39m\u001B[38;5;130;01m\\\\\u001B[39;00m\u001B[38;5;124malpha$\u001B[39m\u001B[38;5;124m'\u001B[39m, fig\u001B[38;5;241m=\u001B[39mfig, gs\u001B[38;5;241m=\u001B[39mgs0[\u001B[38;5;241m1\u001B[39m], title\u001B[38;5;241m=\u001B[39m\u001B[38;5;124m'\u001B[39m\u001B[38;5;124mk=3\u001B[39m\u001B[38;5;124m'\u001B[39m, beta\u001B[38;5;241m=\u001B[39mbeta2)\n\u001B[1;32m      6\u001B[0m plot_results(la2_results, \u001B[38;5;28mdict\u001B[39m(clique\u001B[38;5;241m=\u001B[39m\u001B[38;5;241m10\u001B[39m, rank\u001B[38;5;241m=\u001B[39m\u001B[38;5;241m4\u001B[39m), groupby\u001B[38;5;241m=\u001B[39m\u001B[38;5;124m'\u001B[39m\u001B[38;5;124mmissing\u001B[39m\u001B[38;5;124m'\u001B[39m, xlabel\u001B[38;5;241m=\u001B[39m\u001B[38;5;124m'\u001B[39m\u001B[38;5;124m$\u001B[39m\u001B[38;5;130;01m\\\\\u001B[39;00m\u001B[38;5;124malpha$\u001B[39m\u001B[38;5;124m'\u001B[39m, fig\u001B[38;5;241m=\u001B[39mfig, gs\u001B[38;5;241m=\u001B[39mgs0[\u001B[38;5;241m2\u001B[39m], title\u001B[38;5;241m=\u001B[39m\u001B[38;5;124m'\u001B[39m\u001B[38;5;124mk=4\u001B[39m\u001B[38;5;124m'\u001B[39m, beta\u001B[38;5;241m=\u001B[39mbeta2, legend\u001B[38;5;241m=\u001B[39m\u001B[38;5;28;01mTrue\u001B[39;00m)\n",
      "\u001B[0;31mTypeError\u001B[0m: plot_results() got an unexpected keyword argument 'beta'"
     ]
    },
    {
     "data": {
      "text/plain": [
       "<Figure size 259.2x160.56 with 0 Axes>"
      ]
     },
     "metadata": {},
     "output_type": "display_data"
    }
   ],
   "source": [
    "fig = plt.figure()\n",
    "gs0 = gridspec.GridSpec(ncols=3, nrows=1, figure=fig, wspace=0.2)\n",
    "\n",
    "plot_results(la2_results, dict(clique=10, rank=2), groupby='missing', xlabel='$\\\\alpha$', fig=fig, gs=gs0[0], title='k=2', beta=beta2, ylabel=True)\n",
    "plot_results(la2_results, dict(clique=10, rank=3), groupby='missing', xlabel='$\\\\alpha$', fig=fig, gs=gs0[1], title='k=3', beta=beta2)\n",
    "plot_results(la2_results, dict(clique=10, rank=4), groupby='missing', xlabel='$\\\\alpha$', fig=fig, gs=gs0[2], title='k=4', beta=beta2, legend=True)\n",
    "\n",
    "plt.show()"
   ]
  },
  {
   "cell_type": "code",
   "execution_count": null,
   "id": "2b2f650c-1575-40a6-ac41-b1fec2ab3ba7",
   "metadata": {},
   "outputs": [],
   "source": [
    "fig = plt.figure()\n",
    "gs0 = gridspec.GridSpec(ncols=2, nrows=1, figure=fig, wspace=0.2)\n",
    "\n",
    "plot_results(la2_results, dict(clique=20, rank=2), groupby='missing', xlabel='$\\\\alpha$', fig=fig, gs=gs0[0], title='k=2', beta=beta2, ylabel=True)\n",
    "plot_results(la2_results, dict(clique=20, rank=3), groupby='missing', xlabel='$\\\\alpha$', fig=fig, gs=gs0[1], title='k=3', beta=beta2, legend=True)\n",
    "#plot_results(la2_results, dict(clique=20, rank=4), groupby='missing', xlabel='$\\\\alpha$', fig=fig, gs=gs0[2], title='k=4', beta=beta2)\n",
    "\n",
    "plt.show()"
   ]
  },
  {
   "cell_type": "code",
   "execution_count": null,
   "id": "a170246a-08c2-4d40-9856-9e94b43cf025",
   "metadata": {},
   "outputs": [],
   "source": []
  }
 ],
 "metadata": {
  "kernelspec": {
   "display_name": "Python 3 (ipykernel)",
   "language": "python",
   "name": "python3"
  },
  "language_info": {
   "codemirror_mode": {
    "name": "ipython",
    "version": 3
   },
   "file_extension": ".py",
   "mimetype": "text/x-python",
   "name": "python",
   "nbconvert_exporter": "python",
   "pygments_lexer": "ipython3",
   "version": "3.8.0"
  }
 },
 "nbformat": 4,
 "nbformat_minor": 5
}