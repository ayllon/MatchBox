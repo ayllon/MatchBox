{
 "cells": [
  {
   "cell_type": "code",
   "execution_count": 1,
   "id": "7d3c2fd4-cfec-4687-bdc9-af19942e9a43",
   "metadata": {},
   "outputs": [],
   "source": [
    "%matplotlib inline\n",
    "import matplotlib.pyplot as plt\n",
    "from matplotlib import gridspec\n",
    "from matplotlib import cm\n",
    "\n",
    "from results import load_results, general_stats, pretty_highest_ind\n",
    "import plot"
   ]
  },
  {
   "cell_type": "code",
   "execution_count": 2,
   "id": "dfb5b367-b7fd-44b0-9518-f5a8e13aa5d1",
   "metadata": {},
   "outputs": [],
   "source": [
    "alpha = 0.1\n",
    "findq_params = [(0.05, 1.00, 0), (0.10, 1.00, 0), (0.05, 1.00, 1)]"
   ]
  },
  {
   "cell_type": "code",
   "execution_count": 3,
   "id": "205ae2c9-30dc-4731-8853-1f4a15c3b179",
   "metadata": {},
   "outputs": [],
   "source": [
    "dc2_run_ids = ['dc2_20210930', 'dc2_20211004', 'dc2_20211006']\n",
    "dc2_find2, dc2_findq = load_results(dc2_run_ids)\n",
    "\n",
    "ai_run_ids = ['ailerons_20211001']\n",
    "ai_find2, ai_findq = load_results(ai_run_ids)\n",
    "\n",
    "mo_run_ids = ['mortgage_20211001']\n",
    "mo_find2, mo_findq = load_results(mo_run_ids)\n",
    "\n",
    "datasets = {\n",
    "    'DC2': (dc2_find2, dc2_findq),\n",
    "    'Ailerons': (ai_find2, ai_findq),\n",
    "    'Mortgage': (mo_find2, mo_findq)\n",
    "}"
   ]
  },
  {
   "cell_type": "code",
   "execution_count": 4,
   "id": "1107357f-97ee-4e6e-856b-0b7d5ec8db08",
   "metadata": {},
   "outputs": [],
   "source": [
    "plt.style.use('seaborn')\n",
    "plt.style.use('seaborn-paper')\n",
    "plt.style.use('tableau-colorblind10')\n",
    "plt.rcParams.update({\n",
    "    'figure.figsize': (7.2, 3.5),\n",
    "    'text.usetex': True,\n",
    "    'legend.borderpad': 0,\n",
    "    'xtick.bottom': True,\n",
    "    'xtick.major.size': 2,\n",
    "    'xtick.minor.size': 1,\n",
    "    'lines.markersize': 3,\n",
    "    'lines.linewidth': 0.5,\n",
    "    'errorbar.capsize': 4,\n",
    "    'lines.markeredgewidth': 0.8\n",
    "})\n",
    "\n",
    "style_cycler = plot.StyleCycler(['o', 's', 'D', '*'], ['--'],  plt.rcParams['axes.prop_cycle'])"
   ]
  },
  {
   "cell_type": "code",
   "execution_count": 6,
   "id": "13822ff5-c756-477a-b03e-f3abd27991f6",
   "metadata": {},
   "outputs": [
    {
     "data": {
      "image/png": "[encoded data removed]",
      "text/plain": [
       "<Figure size 518.4x252 with 12 Axes>"
      ]
     },
     "metadata": {},
     "output_type": "display_data"
    }
   ],
   "source": [
    "fig, axes = plt.subplots(ncols = 4, nrows = 3, sharex=True)\n",
    "\n",
    "axes[0, 0].set_title('Match Ratio')\n",
    "axes[0, 1].set_title('Unique EDDs')\n",
    "axes[0, 2].set_title('N. Tests')\n",
    "axes[0, 3].set_title('Runtime')\n",
    "\n",
    "lines = []\n",
    "\n",
    "for i, (ds, (f2, fq)) in enumerate(datasets.items()):\n",
    "    axes[i, 0].set_ylabel(ds)\n",
    "    \n",
    "    f2mask = (f2['exact'] > 0) & (~f2['timeout']) & (f2['bootstrap_alpha'] == alpha)\n",
    "    f2 = f2[f2mask]\n",
    "    \n",
    "    max_ind_col = next(filter(lambda k: k.startswith('max_'), f2.keys()))\n",
    "    ratio_f2 = f2[max_ind_col] / f2['exact']\n",
    "        \n",
    "    for (j, k), (marker, _, color) in zip(enumerate(findq_params, start=1), style_cycler):\n",
    "        v = fq[k]\n",
    "        mask = (v['bootstrap_alpha'] == alpha) & (v['exact'] > 0) & (~v['timeout'])\n",
    "        v = v[mask]\n",
    "        label = plot.readable_key(*k)\n",
    "        l = plot.plot_confidence(axes[i, 0], j, v[max_ind_col] / v['exact'], ref=ratio_f2, label=label, marker=marker, color=color)\n",
    "        if i == 0:\n",
    "            lines.append(l)\n",
    "        plot.plot_confidence(axes[i, 1], j, v['unique_ind'], ref=f2['unique_ind'], label=label, marker=marker, color=color)\n",
    "        plot.plot_confidence(axes[i, 2], j, v['tests'], ref=f2['tests'], label=label, marker=marker, color=color)\n",
    "        plot.plot_confidence(axes[i, 3], j, v['time'], ref=f2['time'], label=label, marker=marker, color=color)\n",
    "\n",
    "fig.legend(lines, [plot.readable_key(*k) for k in findq_params], bbox_to_anchor=[0.5, 0.01], loc='lower center', ncol=3)\n",
    "        \n",
    "fig.subplots_adjust(wspace=0.5)\n",
    "fig.savefig('/home/aalvarez/Downloads/all.eps', bbox_inches='tight', pad_inches=0.05)\n",
    "plt.show()"
   ]
  },
  {
   "cell_type": "code",
   "execution_count": null,
   "id": "d339d2e6-1342-4fe5-a486-f114bd95cf14",
   "metadata": {},
   "outputs": [],
   "source": []
  }
 ],
 "metadata": {
  "kernelspec": {
   "display_name": "Python 3 (ipykernel)",
   "language": "python",
   "name": "python3"
  },
  "language_info": {
   "codemirror_mode": {
    "name": "ipython",
    "version": 3
   },
   "file_extension": ".py",
   "mimetype": "text/x-python",
   "name": "python",
   "nbconvert_exporter": "python",
   "pygments_lexer": "ipython3",
   "version": "3.8.0"
  }
 },
 "nbformat": 4,
 "nbformat_minor": 5
}
