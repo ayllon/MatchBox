{
 "cells": [
  {
   "cell_type": "code",
   "execution_count": 1,
   "id": "ordered-ridge",
   "metadata": {},
   "outputs": [],
   "source": [
    "%matplotlib inline\n",
    "from matplotlib import gridspec, cm\n",
    "from plot import bootstrap_samples_mean, StyleCycler\n",
    "from typing import List, Union\n",
    "import matplotlib.pyplot as plt\n",
    "import pandas\n",
    "import numpy as np\n",
    "import functools\n",
    "\n",
    "plt.style.use('seaborn')\n",
    "plt.style.use('seaborn-paper')\n",
    "plt.style.use('tableau-colorblind10')\n",
    "plt.rcParams.update({\n",
    "    'figure.figsize': (4.8/2, 3/2),\n",
    "    'text.usetex': True,\n",
    "    'axes.titlesize': 5,\n",
    "    'font.size': 5,\n",
    "    'ytick.labelsize': 3,\n",
    "    'xtick.labelsize': 3,\n",
    "    'axes.labelsize': 3,\n",
    "    'legend.fontsize': 4,\n",
    "    'lines.markersize': 2,\n",
    "    'lines.linewidth': 0.5,\n",
    "    'errorbar.capsize': 2,\n",
    "    'ytick.major.pad': 2,\n",
    "    'xtick.major.pad': 2,\n",
    "    'axes.labelpad': 2\n",
    "})"
   ]
  },
  {
   "cell_type": "markdown",
   "id": "indoor-anthony",
   "metadata": {
    "tags": []
   },
   "source": [
    "## Notes\n",
    "\n",
    "1. Chose a set of clique size (i.e. 10 / 15 / 20 / 30 or something like that)\n",
    "2. Aggregate by added (for a missing added) or by added (by a fixed missing)\n",
    "3. Plot ratio and time, which are the metrics"
   ]
  },
  {
   "cell_type": "code",
   "execution_count": 2,
   "id": "allied-colorado",
   "metadata": {},
   "outputs": [],
   "source": [
    "raw2_results = pandas.read_csv('../results/quasi2.csv', index_col=0)\n",
    "raw3_results = pandas.read_csv('../results/quasi3.csv', index_col=0)\n",
    "raw4_results = pandas.read_csv('../results/quasi4.csv', index_col=0)"
   ]
  },
  {
   "cell_type": "code",
   "execution_count": 3,
   "id": "opened-feedback",
   "metadata": {},
   "outputs": [],
   "source": [
    "default_algo = dict(\n",
    "    find2 = 'Find2',\n",
    "    findq = 'FindQ',\n",
    "    findqg = 'FindQ (grow)'\n",
    ")"
   ]
  },
  {
   "cell_type": "code",
   "execution_count": 4,
   "id": "721933c3-5c31-47b8-8155-cc511dc6de8e",
   "metadata": {},
   "outputs": [],
   "source": [
    "def plot_results(raw: pandas.DataFrame, fix:dict, groupby: str, algorithms: dict=default_algo, xlabel: str=None, fig=None, gs=None, title:str=None,\n",
    "                 ylabel:bool=False, legend: bool=False):\n",
    "    nsamples = 500\n",
    "    \n",
    "    cycler = StyleCycler(['o', 's', 'D'], ['--', '-.', ':'], plt.rcParams['axes.prop_cycle'])\n",
    "    \n",
    "    if fig is None:\n",
    "        fig = plt.figure(figsize=(8, 8))\n",
    "    \n",
    "    mask = functools.reduce(lambda a, b: a & b, [raw[k] == v for k, v in fix.items()])\n",
    "    masked = raw[mask]\n",
    "\n",
    "    agg_mean = dict()\n",
    "    agg_std = dict()\n",
    "    for name, grp in masked.groupby(groupby):\n",
    "        sample_means = pandas.DataFrame([grp.sample(frac=1, replace=True).mean() for _ in range(nsamples)])\n",
    "        agg_mean[name] = sample_means.mean()\n",
    "        agg_std[name] = sample_means.std()\n",
    "    agg_mean = pandas.DataFrame(agg_mean).T\n",
    "    agg_std = pandas.DataFrame(agg_std).T\n",
    "    \n",
    "    agg_timeout = masked.groupby([groupby]).agg({f'{algo}_time': lambda x: x.isnull().sum() for algo in algorithms}).astype(int)\n",
    "    \n",
    "    if gs is None:\n",
    "        grid = gridspec.GridSpec(ncols=1, nrows=5, hspace=0, figure=fig)\n",
    "    else:\n",
    "        grid = gridspec.GridSpecFromSubplotSpec(ncols=1, nrows=5, hspace=0.15, subplot_spec=gs)\n",
    "       \n",
    "    # Ratio\n",
    "    ax_ratio = fig.add_subplot(grid[0:2, 0])\n",
    "    for (algo, label), (marker, line, color) in zip(algorithms.items(), cycler):\n",
    "        ax_ratio.errorbar(agg_mean.index, agg_mean[f'{algo}_jaccard'], yerr=agg_std[f'{algo}_jaccard'],\n",
    "                          marker=marker, linestyle=line,\n",
    "                          label=label, c=color)        \n",
    "    if title:\n",
    "        ax_ratio.set_title(title)\n",
    "    \n",
    "    # Time\n",
    "    ax_time = fig.add_subplot(grid[2:4, 0], sharex=ax_ratio)\n",
    "    for (algo, label), (marker, line, color) in zip(algorithms.items(), cycler):\n",
    "        ax_time.errorbar(agg_mean.index, agg_mean[f'{algo}_time'], yerr=agg_std[f'{algo}_time'],\n",
    "                         marker=marker, linestyle=line,\n",
    "                         label=label, c=color)\n",
    "           \n",
    "    # Timeouts\n",
    "    if len(agg_mean.index) > 2:\n",
    "        bar_width = (agg_mean.index[-1] - agg_mean.index[-2])/2.\n",
    "    else:\n",
    "        bar_width = 0.01\n",
    "    \n",
    "    ax_timeout = fig.add_subplot(grid[4, 0], sharex=ax_ratio)\n",
    "    bottom = np.zeros(len(agg_timeout.index))\n",
    "    for (algo, label), (marker, line, color) in zip(algorithms.items(), cycler):\n",
    "        ax_timeout.bar(agg_timeout.index, agg_timeout[f'{algo}_time'], bottom=bottom,\n",
    "                       width=bar_width, label=label, color=color)\n",
    "        bottom += agg_timeout[f'{algo}_time']\n",
    "        \n",
    "    if not np.any(bottom > 0):\n",
    "        ax_timeout.set_ylim(0, 1)\n",
    "        ax_timeout.set_yticks([0,])\n",
    "\n",
    "    if ylabel:\n",
    "        ax_ratio.set_ylabel('Jaccard index')\n",
    "        ax_time.set_ylabel('Time (s)')\n",
    "        ax_timeout.set_ylabel('Timeouts')\n",
    "        fig.align_ylabels([ax_ratio, ax_time, ax_timeout])\n",
    "    \n",
    "    ax_timeout.grid(False)\n",
    "    ax_timeout.set_xlabel(xlabel)\n",
    "    ax_timeout.set_xticks(agg_mean.index[1::2])\n",
    "    ax_timeout.set_ylim(0)\n",
    "    \n",
    "    plt.setp(ax_ratio.get_xaxis(), visible=False)\n",
    "    plt.setp(ax_time.get_xaxis(), visible=False)\n",
    "    \n",
    "    if legend:\n",
    "        ax_timeout.legend(loc='upper center', bbox_to_anchor=(0.5, -0.6), ncol=len(algorithms))\n",
    "    \n",
    "    return fig"
   ]
  },
  {
   "cell_type": "code",
   "execution_count": 5,
   "id": "featured-illustration",
   "metadata": {},
   "outputs": [
    {
     "name": "stderr",
     "output_type": "stream",
     "text": [
      "/opt/miniconda3/envs/matchbox/lib/python3.8/site-packages/matplotlib/axes/_base.py:2283: UserWarning: Warning: converting a masked element to nan.\n",
      "  xys = np.asarray(xys)\n",
      "/opt/miniconda3/envs/matchbox/lib/python3.8/site-packages/matplotlib/axes/_base.py:2283: UserWarning: Warning: converting a masked element to nan.\n",
      "  xys = np.asarray(xys)\n"
     ]
    },
    {
     "data": {
      "image/png": "[encoded data removed]",
      "text/plain": [
       "<Figure size 172.8x108 with 9 Axes>"
      ]
     },
     "metadata": {},
     "output_type": "display_data"
    }
   ],
   "source": [
    "fig = plt.figure()\n",
    "gs0 = gridspec.GridSpec(ncols=3, nrows=1, figure=fig, wspace=0.3)\n",
    "\n",
    "plot_results(raw2_results, dict(missing=0.1, clique=10), groupby='added', xlabel='$\\\\beta$', fig=fig, gs=gs0[0], title='Clique size 10', ylabel=True)\n",
    "plot_results(raw2_results, dict(missing=0.1, clique=20), groupby='added', xlabel='$\\\\beta$', fig=fig, gs=gs0[1], title='Clique size 20', legend=True)\n",
    "plot_results(raw2_results, dict(missing=0.1, clique=30), groupby='added', xlabel='$\\\\beta$', fig=fig, gs=gs0[2], title='Clique size 30')\n",
    "\n",
    "fig.savefig('/home/aalvarez/Downloads/2hyper_beta.eps', bbox_inches='tight')\n",
    "\n",
    "plt.show()"
   ]
  },
  {
   "cell_type": "code",
   "execution_count": 6,
   "id": "05594e5b-4bc4-4f55-bdc5-4cb216f7abfd",
   "metadata": {},
   "outputs": [
    {
     "data": {
      "image/png": "[encoded data removed]",
      "text/plain": [
       "<Figure size 172.8x108 with 9 Axes>"
      ]
     },
     "metadata": {},
     "output_type": "display_data"
    }
   ],
   "source": [
    "fig = plt.figure()\n",
    "gs0 = gridspec.GridSpec(ncols=3, nrows=1, figure=fig, wspace=0.3)\n",
    "\n",
    "plot_results(raw2_results, dict(added=0.0, clique=10), groupby='missing', xlabel='$\\\\alpha$', fig=fig, gs=gs0[0], title='Clique size 10', ylabel=True)\n",
    "plot_results(raw2_results, dict(added=0.0, clique=20), groupby='missing', xlabel='$\\\\alpha$', fig=fig, gs=gs0[1], title='Clique size 20', legend=True)\n",
    "plot_results(raw2_results, dict(added=0.0, clique=30), groupby='missing', xlabel='$\\\\alpha$', fig=fig, gs=gs0[2], title='Clique size 30')\n",
    "\n",
    "fig.savefig('/home/aalvarez/Downloads/2hyper_alpha.eps', bbox_inches='tight')\n",
    "\n",
    "plt.show()"
   ]
  },
  {
   "cell_type": "code",
   "execution_count": 7,
   "id": "floppy-techno",
   "metadata": {},
   "outputs": [
    {
     "name": "stderr",
     "output_type": "stream",
     "text": [
      "/opt/miniconda3/envs/matchbox/lib/python3.8/site-packages/matplotlib/axes/_base.py:2283: UserWarning: Warning: converting a masked element to nan.\n",
      "  xys = np.asarray(xys)\n",
      "/opt/miniconda3/envs/matchbox/lib/python3.8/site-packages/matplotlib/axes/_base.py:2283: UserWarning: Warning: converting a masked element to nan.\n",
      "  xys = np.asarray(xys)\n",
      "/opt/miniconda3/envs/matchbox/lib/python3.8/site-packages/matplotlib/axes/_base.py:2283: UserWarning: Warning: converting a masked element to nan.\n",
      "  xys = np.asarray(xys)\n",
      "/opt/miniconda3/envs/matchbox/lib/python3.8/site-packages/matplotlib/axes/_base.py:2283: UserWarning: Warning: converting a masked element to nan.\n",
      "  xys = np.asarray(xys)\n"
     ]
    },
    {
     "data": {
      "image/png": "[encoded data removed]",
      "text/plain": [
       "<Figure size 172.8x108 with 9 Axes>"
      ]
     },
     "metadata": {},
     "output_type": "display_data"
    }
   ],
   "source": [
    "fig = plt.figure()\n",
    "gs0 = gridspec.GridSpec(ncols=3, nrows=1, figure=fig, wspace=0.3)\n",
    "\n",
    "plot_results(raw3_results, dict(missing=0.1, clique=10), groupby='added', xlabel='$\\\\beta$', fig=fig, gs=gs0[0], title='Clique size 10', ylabel=True)\n",
    "plot_results(raw3_results, dict(missing=0.1, clique=20), groupby='added', xlabel='$\\\\beta$', fig=fig, gs=gs0[1], title='Clique size 20', legend=True)\n",
    "plot_results(raw3_results, dict(missing=0.1, clique=30), groupby='added', xlabel='$\\\\beta$', fig=fig, gs=gs0[2], title='Clique size 30')\n",
    "\n",
    "fig.savefig('/home/aalvarez/Downloads/3hyper_beta.eps', bbox_inches='tight')\n",
    "\n",
    "plt.show()"
   ]
  },
  {
   "cell_type": "code",
   "execution_count": 8,
   "id": "58986cd5-c60d-4021-9dae-713039997aeb",
   "metadata": {},
   "outputs": [
    {
     "name": "stderr",
     "output_type": "stream",
     "text": [
      "/opt/miniconda3/envs/matchbox/lib/python3.8/site-packages/matplotlib/axes/_base.py:2283: UserWarning: Warning: converting a masked element to nan.\n",
      "  xys = np.asarray(xys)\n",
      "/opt/miniconda3/envs/matchbox/lib/python3.8/site-packages/matplotlib/axes/_base.py:2283: UserWarning: Warning: converting a masked element to nan.\n",
      "  xys = np.asarray(xys)\n"
     ]
    },
    {
     "data": {
      "image/png": "[encoded data removed]",
      "text/plain": [
       "<Figure size 172.8x108 with 9 Axes>"
      ]
     },
     "metadata": {},
     "output_type": "display_data"
    }
   ],
   "source": [
    "fig = plt.figure()\n",
    "gs0 = gridspec.GridSpec(ncols=3, nrows=1, figure=fig, wspace=0.3)\n",
    "\n",
    "plot_results(raw3_results, dict(added=0.0, clique=10), groupby='missing', xlabel='$\\\\alpha$', fig=fig, gs=gs0[0], title='Clique size 10', ylabel=True)\n",
    "plot_results(raw3_results, dict(added=0.0, clique=20), groupby='missing', xlabel='$\\\\alpha$', fig=fig, gs=gs0[1], title='Clique size 20', legend=True)\n",
    "plot_results(raw3_results, dict(added=0.0, clique=30), groupby='missing', xlabel='$\\\\alpha$', fig=fig, gs=gs0[2], title='Clique size 30')\n",
    "\n",
    "fig.savefig('/home/aalvarez/Downloads/3hyper_alpha.eps', bbox_inches='tight')\n",
    "plt.show()"
   ]
  },
  {
   "cell_type": "code",
   "execution_count": 11,
   "id": "201a8a6a-2c9f-4e49-8adc-af0ee9a4a5a6",
   "metadata": {},
   "outputs": [
    {
     "name": "stderr",
     "output_type": "stream",
     "text": [
      "/opt/miniconda3/envs/matchbox/lib/python3.8/site-packages/matplotlib/axes/_base.py:2283: UserWarning: Warning: converting a masked element to nan.\n",
      "  xys = np.asarray(xys)\n",
      "/opt/miniconda3/envs/matchbox/lib/python3.8/site-packages/matplotlib/axes/_base.py:2283: UserWarning: Warning: converting a masked element to nan.\n",
      "  xys = np.asarray(xys)\n"
     ]
    },
    {
     "data": {
      "image/png": "[encoded data removed]",
      "text/plain": [
       "<Figure size 172.8x108 with 6 Axes>"
      ]
     },
     "metadata": {},
     "output_type": "display_data"
    }
   ],
   "source": [
    "fig = plt.figure()\n",
    "gs0 = gridspec.GridSpec(ncols=2, nrows=1, figure=fig, wspace=0.3)\n",
    "\n",
    "plot_results(raw4_results, dict(missing=0.1, clique=10), groupby='added', xlabel='$\\\\beta$', fig=fig, gs=gs0[0], title='Clique size 10', ylabel=True, legend=True)\n",
    "plot_results(raw4_results, dict(missing=0.1, clique=20), groupby='added', xlabel='$\\\\beta$', fig=fig, gs=gs0[1], title='Clique size 20')\n",
    "#plot_results(raw4_results, dict(missing=0.1, clique=30), groupby='added', xlabel='$\\\\beta$', fig=fig, gs=gs0[2], title='Clique size 30')\n",
    "\n",
    "fig.savefig('/home/aalvarez/Downloads/4hyper_beta.eps', bbox_inches='tight')\n",
    "\n",
    "plt.show()"
   ]
  },
  {
   "cell_type": "code",
   "execution_count": 10,
   "id": "65098a09-a954-44c7-99ef-ed9f3fc21e0a",
   "metadata": {},
   "outputs": [
    {
     "name": "stderr",
     "output_type": "stream",
     "text": [
      "/opt/miniconda3/envs/matchbox/lib/python3.8/site-packages/matplotlib/axes/_base.py:2283: UserWarning: Warning: converting a masked element to nan.\n",
      "  xys = np.asarray(xys)\n",
      "/opt/miniconda3/envs/matchbox/lib/python3.8/site-packages/matplotlib/axes/_base.py:2283: UserWarning: Warning: converting a masked element to nan.\n",
      "  xys = np.asarray(xys)\n"
     ]
    },
    {
     "data": {
      "image/png": "[encoded data removed]",
      "text/plain": [
       "<Figure size 172.8x108 with 9 Axes>"
      ]
     },
     "metadata": {},
     "output_type": "display_data"
    }
   ],
   "source": [
    "fig = plt.figure()\n",
    "gs0 = gridspec.GridSpec(ncols=3, nrows=1, figure=fig, wspace=0.3)\n",
    "\n",
    "plot_results(raw4_results, dict(added=0.0, clique=10), groupby='missing', xlabel='$\\\\alpha$', fig=fig, gs=gs0[0], title='Clique size 10', ylabel=True)\n",
    "plot_results(raw4_results, dict(added=0.0, clique=20), groupby='missing', xlabel='$\\\\alpha$', fig=fig, gs=gs0[1], title='Clique size 20', legend=True)\n",
    "plot_results(raw4_results, dict(added=0.0, clique=30), groupby='missing', xlabel='$\\\\alpha$', fig=fig, gs=gs0[2], title='Clique size 30')\n",
    "\n",
    "fig.savefig('/home/aalvarez/Downloads/4hyper_alpha.eps', bbox_inches='tight')\n",
    "plt.show()"
   ]
  },
  {
   "cell_type": "code",
   "execution_count": null,
   "id": "e2da4ec5-a327-4ef8-be50-009314db4b97",
   "metadata": {},
   "outputs": [],
   "source": []
  }
 ],
 "metadata": {
  "kernelspec": {
   "display_name": "Python 3 (ipykernel)",
   "language": "python",
   "name": "python3"
  },
  "language_info": {
   "codemirror_mode": {
    "name": "ipython",
    "version": 3
   },
   "file_extension": ".py",
   "mimetype": "text/x-python",
   "name": "python",
   "nbconvert_exporter": "python",
   "pygments_lexer": "ipython3",
   "version": "3.8.12"
  }
 },
 "nbformat": 4,
 "nbformat_minor": 5
}
