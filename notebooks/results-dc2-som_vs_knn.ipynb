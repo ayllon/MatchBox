{
 "cells": [
  {
   "cell_type": "code",
   "execution_count": 1,
   "metadata": {},
   "outputs": [],
   "source": [
    "%matplotlib inline\n",
    "import matplotlib.pyplot as plt\n",
    "from matplotlib import gridspec\n",
    "from matplotlib import cm\n",
    "from hashlib import md5\n",
    "import zipfile\n",
    "import pandas\n",
    "import numpy as np\n",
    "import somoclu\n",
    "from matchbox.util.loaders import load_datasets\n",
    "from matchbox.tests.som import som_test\n",
    "\n",
    "from results import load_results, general_stats, pretty_highest_ind, most_frequent_highest, parse_fields\n",
    "import plot\n",
    "\n",
    "plt.style.use('seaborn')\n",
    "plt.style.use('seaborn-paper')\n",
    "plt.style.use('tableau-colorblind10')\n",
    "plt.rcParams.update({\n",
    "    'text.usetex': True,\n",
    "    'lines.markersize': 5,\n",
    "    'lines.linewidth': 1,\n",
    "    'errorbar.capsize': 5\n",
    "})"
   ]
  },
  {
   "cell_type": "code",
   "execution_count": 2,
   "metadata": {},
   "outputs": [],
   "source": [
    "_, data_knn, _, edd_knn = load_results(['dc2_20220321_knn'], return_inds=True)\n",
    "_, data_som, _, edd_som = load_results(['dc2_20220331_som'], return_inds=True)"
   ]
  },
  {
   "cell_type": "code",
   "execution_count": 3,
   "metadata": {},
   "outputs": [
    {
     "name": "stdout",
     "output_type": "stream",
     "text": [
      "\\begin{tabular}{llrrrrrrrrrrrr}\n",
      "\\toprule\n",
      "{} &   Method &  Lambda &  Gamma &    Time Q1 &     Time Q3 &  Match Q1 &  Match Q3 &  Card Q1 &  Card Q3 &  Precision &   Overhead &     N &  Timeouts \\\\\n",
      "\\midrule\n",
      "0 &  FindQ 0 &     0.1 &   0.95 &   1.312961 &   21.863134 &  0.800000 &    0.9000 &      6.0 &     16.0 &   0.678133 &  16.477858 &  3521 &  0.001418 \\\\\n",
      "1 &  FindQ 1 &     0.1 &   0.95 &  16.051058 &  101.431657 &  0.833333 &    0.9375 &     22.0 &     64.0 &   0.275323 &  25.277367 &  3500 &  0.005682 \\\\\n",
      "\\bottomrule\n",
      "\\end{tabular}\n",
      "\n"
     ]
    },
    {
     "name": "stderr",
     "output_type": "stream",
     "text": [
      "/tmp/ipykernel_252809/630929082.py:2: FutureWarning: In future versions `DataFrame.to_latex` is expected to utilise the base implementation of `Styler.to_latex` for formatting and rendering. The arguments signature may therefore change. It is recommended instead to use `DataFrame.style.to_latex` which also contains additional functionality.\n",
      "  print(stats_knn.to_latex())\n"
     ]
    }
   ],
   "source": [
    "stats_knn = general_stats(None, data_knn, alpha=0.05)\n",
    "print(stats_knn.to_latex())"
   ]
  },
  {
   "cell_type": "code",
   "execution_count": 4,
   "metadata": {},
   "outputs": [
    {
     "name": "stdout",
     "output_type": "stream",
     "text": [
      "\\begin{tabular}{llrrrrrrrrrrrr}\n",
      "\\toprule\n",
      "{} &   Method &  Lambda &  Gamma &     Time Q1 &      Time Q3 &  Match Q1 &  Match Q3 &  Card Q1 &  Card Q3 &  Precision &   Overhead &     N &  Timeouts \\\\\n",
      "\\midrule\n",
      "0 &  FindQ 0 &     0.1 &   0.95 &   11.270419 &   209.234272 &  0.800000 &  0.900000 &      5.0 &     13.0 &   0.694868 &  13.132332 &  1091 &  0.016231 \\\\\n",
      "1 &  FindQ 1 &     0.1 &   0.95 &  192.407760 &  1232.191503 &  0.833333 &  0.940257 &     14.0 &     46.0 &   0.225148 &  26.399671 &  1022 &  0.073436 \\\\\n",
      "\\bottomrule\n",
      "\\end{tabular}\n",
      "\n"
     ]
    },
    {
     "name": "stderr",
     "output_type": "stream",
     "text": [
      "/tmp/ipykernel_252809/247702323.py:2: FutureWarning: In future versions `DataFrame.to_latex` is expected to utilise the base implementation of `Styler.to_latex` for formatting and rendering. The arguments signature may therefore change. It is recommended instead to use `DataFrame.style.to_latex` which also contains additional functionality.\n",
      "  print(stats_som.to_latex())\n"
     ]
    }
   ],
   "source": [
    "stats_som = general_stats(None, data_som, alpha=0.05)\n",
    "print(stats_som.to_latex())"
   ]
  },
  {
   "cell_type": "code",
   "execution_count": 5,
   "metadata": {},
   "outputs": [
    {
     "data": {
      "image/png": "[encoded data removed]",
      "text/plain": [
       "<Figure size 460.8x105.6 with 3 Axes>"
      ]
     },
     "metadata": {},
     "output_type": "display_data"
    }
   ],
   "source": [
    "figsize = plt.rcParams['figure.figsize']\n",
    "\n",
    "fig, axes = plt.subplots(ncols=3, nrows=1, sharex=True, figsize=(figsize[0], figsize[1]/3))\n",
    "for i, key in enumerate(data_som.keys()):\n",
    "    max_col = next(filter(lambda c: c.startswith('max_'), data_som[key].columns))    \n",
    "    \n",
    "    somd = data_som[key]\n",
    "    knnd = data_knn[key]\n",
    "    \n",
    "    sommask = (somd['bootstrap_alpha'] == 0.05) & (somd['exact'] > 0) & (~somd['timeout'])\n",
    "    knnmask = (knnd['bootstrap_alpha'] == 0.05) & (knnd['exact'] > 0) & (~knnd['timeout'])\n",
    "    \n",
    "    somd = somd[sommask]\n",
    "    knnd = knnd[knnmask]\n",
    "    \n",
    "    plot.plot_confidence(axes[0], i, somd[max_col]/somd['exact'], knnd[max_col]/knnd['exact'], marker='o', label=plot.readable_key(*key))\n",
    "    plot.plot_confidence(axes[1], i, somd['tests']/somd['unique_ind'], knnd['tests']/knnd['unique_ind'], marker='o', label=plot.readable_key(*key))\n",
    "    plot.plot_confidence(axes[2], i, somd['time'], knnd['time'], marker='o', label=plot.readable_key(*key))   \n",
    "    \n",
    "axes[0] .yaxis.set_major_formatter('{x:.1f} \\\\%')\n",
    "\n",
    "axes[0].set_title('Ratio')\n",
    "axes[1].set_title('Overhead')\n",
    "axes[2].set_title('Time')\n",
    "axes[0].set_xlim(-0.2, 1.2)\n",
    "\n",
    "axes[1].legend(loc='upper center', bbox_to_anchor=(0.4, 0.0), ncol=2)\n",
    "fig.subplots_adjust(left=0, wspace=0.32, right=1)\n",
    "fig.savefig('/home/aalvarez/Plots/presq_som.eps', bbox_inches='tight')\n",
    "plt.show()"
   ]
  },
  {
   "cell_type": "markdown",
   "metadata": {},
   "source": [
    "## Maximal EDD found"
   ]
  },
  {
   "cell_type": "code",
   "execution_count": 6,
   "metadata": {},
   "outputs": [
    {
     "data": {
      "text/html": [
       "<div>\n",
       "<style scoped>\n",
       "    .dataframe tbody tr th:only-of-type {\n",
       "        vertical-align: middle;\n",
       "    }\n",
       "\n",
       "    .dataframe tbody tr th {\n",
       "        vertical-align: top;\n",
       "    }\n",
       "\n",
       "    .dataframe thead th {\n",
       "        text-align: right;\n",
       "    }\n",
       "</style>\n",
       "<table border=\"1\" class=\"dataframe\">\n",
       "  <thead>\n",
       "    <tr style=\"text-align: right;\">\n",
       "      <th></th>\n",
       "      <th>euclid_cosmos_DC2_S2_v2.1_calib.fits</th>\n",
       "      <th>euclid_cosmos_DC2_S2_v2.1_valid.fits</th>\n",
       "    </tr>\n",
       "  </thead>\n",
       "  <tbody>\n",
       "    <tr>\n",
       "      <th>0</th>\n",
       "      <td>CLASS_STAR_DETECT</td>\n",
       "      <td>CLASS_STAR_DETECT</td>\n",
       "    </tr>\n",
       "    <tr>\n",
       "      <th>1</th>\n",
       "      <td>ELLIPTICITY_DETECT</td>\n",
       "      <td>ELLIPTICITY_DETECT</td>\n",
       "    </tr>\n",
       "    <tr>\n",
       "      <th>2</th>\n",
       "      <td>FLUXERR_G_1</td>\n",
       "      <td>FLUXERR_G_1</td>\n",
       "    </tr>\n",
       "    <tr>\n",
       "      <th>3</th>\n",
       "      <td>FLUXERR_I_1</td>\n",
       "      <td>FLUXERR_I_1</td>\n",
       "    </tr>\n",
       "    <tr>\n",
       "      <th>4</th>\n",
       "      <td>FLUXERR_R_1</td>\n",
       "      <td>FLUXERR_R_1</td>\n",
       "    </tr>\n",
       "    <tr>\n",
       "      <th>5</th>\n",
       "      <td>FLUXERR_VIS</td>\n",
       "      <td>FLUXERR_VIS</td>\n",
       "    </tr>\n",
       "    <tr>\n",
       "      <th>6</th>\n",
       "      <td>FLUXERR_Y_1</td>\n",
       "      <td>FLUXERR_Y_1</td>\n",
       "    </tr>\n",
       "    <tr>\n",
       "      <th>7</th>\n",
       "      <td>FLUXERR_Z_1</td>\n",
       "      <td>FLUXERR_Z_1</td>\n",
       "    </tr>\n",
       "    <tr>\n",
       "      <th>8</th>\n",
       "      <td>FLUX_G_1</td>\n",
       "      <td>FLUX_G_1</td>\n",
       "    </tr>\n",
       "    <tr>\n",
       "      <th>9</th>\n",
       "      <td>FLUX_H_1</td>\n",
       "      <td>FLUX_H_1</td>\n",
       "    </tr>\n",
       "    <tr>\n",
       "      <th>10</th>\n",
       "      <td>FLUX_I_1</td>\n",
       "      <td>FLUX_I_1</td>\n",
       "    </tr>\n",
       "    <tr>\n",
       "      <th>11</th>\n",
       "      <td>FLUX_J_1</td>\n",
       "      <td>FLUX_J_1</td>\n",
       "    </tr>\n",
       "    <tr>\n",
       "      <th>12</th>\n",
       "      <td>FLUX_RADIUS_DETECT</td>\n",
       "      <td>FLUX_RADIUS_DETECT</td>\n",
       "    </tr>\n",
       "    <tr>\n",
       "      <th>13</th>\n",
       "      <td>FLUX_R_1</td>\n",
       "      <td>FLUX_R_1</td>\n",
       "    </tr>\n",
       "    <tr>\n",
       "      <th>14</th>\n",
       "      <td>FLUX_VIS</td>\n",
       "      <td>FLUX_VIS</td>\n",
       "    </tr>\n",
       "    <tr>\n",
       "      <th>15</th>\n",
       "      <td>FLUX_Y_1</td>\n",
       "      <td>FLUX_Y_1</td>\n",
       "    </tr>\n",
       "    <tr>\n",
       "      <th>16</th>\n",
       "      <td>FLUX_Z_1</td>\n",
       "      <td>FLUX_Z_1</td>\n",
       "    </tr>\n",
       "    <tr>\n",
       "      <th>17</th>\n",
       "      <td>FWHM_IMAGE_DETECT</td>\n",
       "      <td>FWHM_IMAGE_DETECT</td>\n",
       "    </tr>\n",
       "    <tr>\n",
       "      <th>18</th>\n",
       "      <td>ID</td>\n",
       "      <td>ID</td>\n",
       "    </tr>\n",
       "    <tr>\n",
       "      <th>19</th>\n",
       "      <td>MU_MAX_DETECT</td>\n",
       "      <td>MU_MAX_DETECT</td>\n",
       "    </tr>\n",
       "    <tr>\n",
       "      <th>20</th>\n",
       "      <td>MU_THRESHOLD_DETECT</td>\n",
       "      <td>MU_THRESHOLD_DETECT</td>\n",
       "    </tr>\n",
       "  </tbody>\n",
       "</table>\n",
       "</div>"
      ],
      "text/plain": [
       "   euclid_cosmos_DC2_S2_v2.1_calib.fits euclid_cosmos_DC2_S2_v2.1_valid.fits\n",
       "0                     CLASS_STAR_DETECT                    CLASS_STAR_DETECT\n",
       "1                    ELLIPTICITY_DETECT                   ELLIPTICITY_DETECT\n",
       "2                           FLUXERR_G_1                          FLUXERR_G_1\n",
       "3                           FLUXERR_I_1                          FLUXERR_I_1\n",
       "4                           FLUXERR_R_1                          FLUXERR_R_1\n",
       "5                           FLUXERR_VIS                          FLUXERR_VIS\n",
       "6                           FLUXERR_Y_1                          FLUXERR_Y_1\n",
       "7                           FLUXERR_Z_1                          FLUXERR_Z_1\n",
       "8                              FLUX_G_1                             FLUX_G_1\n",
       "9                              FLUX_H_1                             FLUX_H_1\n",
       "10                             FLUX_I_1                             FLUX_I_1\n",
       "11                             FLUX_J_1                             FLUX_J_1\n",
       "12                   FLUX_RADIUS_DETECT                   FLUX_RADIUS_DETECT\n",
       "13                             FLUX_R_1                             FLUX_R_1\n",
       "14                             FLUX_VIS                             FLUX_VIS\n",
       "15                             FLUX_Y_1                             FLUX_Y_1\n",
       "16                             FLUX_Z_1                             FLUX_Z_1\n",
       "17                    FWHM_IMAGE_DETECT                    FWHM_IMAGE_DETECT\n",
       "18                                   ID                                   ID\n",
       "19                        MU_MAX_DETECT                        MU_MAX_DETECT\n",
       "20                  MU_THRESHOLD_DETECT                  MU_THRESHOLD_DETECT"
      ]
     },
     "execution_count": 6,
     "metadata": {},
     "output_type": "execute_result"
    }
   ],
   "source": [
    "key1 = (0.1, 1., 0)\n",
    "\n",
    "pretty_highest_ind(edd_knn[key1])"
   ]
  },
  {
   "cell_type": "code",
   "execution_count": 7,
   "metadata": {},
   "outputs": [
    {
     "data": {
      "text/html": [
       "<div>\n",
       "<style scoped>\n",
       "    .dataframe tbody tr th:only-of-type {\n",
       "        vertical-align: middle;\n",
       "    }\n",
       "\n",
       "    .dataframe tbody tr th {\n",
       "        vertical-align: top;\n",
       "    }\n",
       "\n",
       "    .dataframe thead th {\n",
       "        text-align: right;\n",
       "    }\n",
       "</style>\n",
       "<table border=\"1\" class=\"dataframe\">\n",
       "  <thead>\n",
       "    <tr style=\"text-align: right;\">\n",
       "      <th></th>\n",
       "      <th>euclid_cosmos_DC2_S2_v2.1_calib.fits</th>\n",
       "      <th>euclid_cosmos_DC2_S2_v2.1_valid.fits</th>\n",
       "    </tr>\n",
       "  </thead>\n",
       "  <tbody>\n",
       "    <tr>\n",
       "      <th>0</th>\n",
       "      <td>CLASS_STAR_DETECT</td>\n",
       "      <td>CLASS_STAR_DETECT</td>\n",
       "    </tr>\n",
       "    <tr>\n",
       "      <th>1</th>\n",
       "      <td>ELLIPTICITY_DETECT</td>\n",
       "      <td>ELLIPTICITY_DETECT</td>\n",
       "    </tr>\n",
       "    <tr>\n",
       "      <th>2</th>\n",
       "      <td>FLUXERR_G_1</td>\n",
       "      <td>FLUXERR_G_1</td>\n",
       "    </tr>\n",
       "    <tr>\n",
       "      <th>3</th>\n",
       "      <td>FLUXERR_I_1</td>\n",
       "      <td>FLUXERR_I_1</td>\n",
       "    </tr>\n",
       "    <tr>\n",
       "      <th>4</th>\n",
       "      <td>FLUXERR_R_1</td>\n",
       "      <td>FLUXERR_R_1</td>\n",
       "    </tr>\n",
       "    <tr>\n",
       "      <th>5</th>\n",
       "      <td>FLUXERR_VIS</td>\n",
       "      <td>FLUXERR_VIS</td>\n",
       "    </tr>\n",
       "    <tr>\n",
       "      <th>6</th>\n",
       "      <td>FLUXERR_Z_1</td>\n",
       "      <td>FLUXERR_Z_1</td>\n",
       "    </tr>\n",
       "    <tr>\n",
       "      <th>7</th>\n",
       "      <td>FLUX_G_1</td>\n",
       "      <td>FLUX_G_1</td>\n",
       "    </tr>\n",
       "    <tr>\n",
       "      <th>8</th>\n",
       "      <td>FLUX_H_1</td>\n",
       "      <td>FLUX_H_1</td>\n",
       "    </tr>\n",
       "    <tr>\n",
       "      <th>9</th>\n",
       "      <td>FLUX_I_1</td>\n",
       "      <td>FLUX_I_1</td>\n",
       "    </tr>\n",
       "    <tr>\n",
       "      <th>10</th>\n",
       "      <td>FLUX_J_1</td>\n",
       "      <td>FLUX_J_1</td>\n",
       "    </tr>\n",
       "    <tr>\n",
       "      <th>11</th>\n",
       "      <td>FLUX_RADIUS_DETECT</td>\n",
       "      <td>FLUX_RADIUS_DETECT</td>\n",
       "    </tr>\n",
       "    <tr>\n",
       "      <th>12</th>\n",
       "      <td>FLUX_R_1</td>\n",
       "      <td>FLUX_R_1</td>\n",
       "    </tr>\n",
       "    <tr>\n",
       "      <th>13</th>\n",
       "      <td>FLUX_VIS</td>\n",
       "      <td>FLUX_VIS</td>\n",
       "    </tr>\n",
       "    <tr>\n",
       "      <th>14</th>\n",
       "      <td>FLUX_Y_1</td>\n",
       "      <td>FLUX_Y_1</td>\n",
       "    </tr>\n",
       "    <tr>\n",
       "      <th>15</th>\n",
       "      <td>FLUX_Z_1</td>\n",
       "      <td>FLUX_Z_1</td>\n",
       "    </tr>\n",
       "    <tr>\n",
       "      <th>16</th>\n",
       "      <td>FWHM_IMAGE_DETECT</td>\n",
       "      <td>FWHM_IMAGE_DETECT</td>\n",
       "    </tr>\n",
       "    <tr>\n",
       "      <th>17</th>\n",
       "      <td>ID</td>\n",
       "      <td>ID</td>\n",
       "    </tr>\n",
       "    <tr>\n",
       "      <th>18</th>\n",
       "      <td>MU_MAX_DETECT</td>\n",
       "      <td>MU_MAX_DETECT</td>\n",
       "    </tr>\n",
       "    <tr>\n",
       "      <th>19</th>\n",
       "      <td>MU_THRESHOLD_DETECT</td>\n",
       "      <td>MU_THRESHOLD_DETECT</td>\n",
       "    </tr>\n",
       "  </tbody>\n",
       "</table>\n",
       "</div>"
      ],
      "text/plain": [
       "   euclid_cosmos_DC2_S2_v2.1_calib.fits euclid_cosmos_DC2_S2_v2.1_valid.fits\n",
       "0                     CLASS_STAR_DETECT                    CLASS_STAR_DETECT\n",
       "1                    ELLIPTICITY_DETECT                   ELLIPTICITY_DETECT\n",
       "2                           FLUXERR_G_1                          FLUXERR_G_1\n",
       "3                           FLUXERR_I_1                          FLUXERR_I_1\n",
       "4                           FLUXERR_R_1                          FLUXERR_R_1\n",
       "5                           FLUXERR_VIS                          FLUXERR_VIS\n",
       "6                           FLUXERR_Z_1                          FLUXERR_Z_1\n",
       "7                              FLUX_G_1                             FLUX_G_1\n",
       "8                              FLUX_H_1                             FLUX_H_1\n",
       "9                              FLUX_I_1                             FLUX_I_1\n",
       "10                             FLUX_J_1                             FLUX_J_1\n",
       "11                   FLUX_RADIUS_DETECT                   FLUX_RADIUS_DETECT\n",
       "12                             FLUX_R_1                             FLUX_R_1\n",
       "13                             FLUX_VIS                             FLUX_VIS\n",
       "14                             FLUX_Y_1                             FLUX_Y_1\n",
       "15                             FLUX_Z_1                             FLUX_Z_1\n",
       "16                    FWHM_IMAGE_DETECT                    FWHM_IMAGE_DETECT\n",
       "17                                   ID                                   ID\n",
       "18                        MU_MAX_DETECT                        MU_MAX_DETECT\n",
       "19                  MU_THRESHOLD_DETECT                  MU_THRESHOLD_DETECT"
      ]
     },
     "execution_count": 7,
     "metadata": {},
     "output_type": "execute_result"
    }
   ],
   "source": [
    "pretty_highest_ind(edd_som[key1])"
   ]
  },
  {
   "cell_type": "code",
   "execution_count": 8,
   "metadata": {},
   "outputs": [
    {
     "data": {
      "text/html": [
       "<div>\n",
       "<style scoped>\n",
       "    .dataframe tbody tr th:only-of-type {\n",
       "        vertical-align: middle;\n",
       "    }\n",
       "\n",
       "    .dataframe tbody tr th {\n",
       "        vertical-align: top;\n",
       "    }\n",
       "\n",
       "    .dataframe thead th {\n",
       "        text-align: right;\n",
       "    }\n",
       "</style>\n",
       "<table border=\"1\" class=\"dataframe\">\n",
       "  <thead>\n",
       "    <tr style=\"text-align: right;\">\n",
       "      <th></th>\n",
       "      <th>euclid_cosmos_DC2_S2_v2.1_calib.fits</th>\n",
       "      <th>euclid_cosmos_DC2_S2_v2.1_valid.fits</th>\n",
       "    </tr>\n",
       "  </thead>\n",
       "  <tbody>\n",
       "    <tr>\n",
       "      <th>0</th>\n",
       "      <td>CLASS_STAR_DETECT</td>\n",
       "      <td>CLASS_STAR_DETECT</td>\n",
       "    </tr>\n",
       "    <tr>\n",
       "      <th>1</th>\n",
       "      <td>ELLIPTICITY_DETECT</td>\n",
       "      <td>ELLIPTICITY_DETECT</td>\n",
       "    </tr>\n",
       "    <tr>\n",
       "      <th>2</th>\n",
       "      <td>FLUXERR_G_1</td>\n",
       "      <td>FLUXERR_G_1</td>\n",
       "    </tr>\n",
       "    <tr>\n",
       "      <th>3</th>\n",
       "      <td>FLUXERR_I_1</td>\n",
       "      <td>FLUXERR_I_1</td>\n",
       "    </tr>\n",
       "    <tr>\n",
       "      <th>4</th>\n",
       "      <td>FLUXERR_R_1</td>\n",
       "      <td>FLUXERR_R_1</td>\n",
       "    </tr>\n",
       "    <tr>\n",
       "      <th>5</th>\n",
       "      <td>FLUXERR_VIS</td>\n",
       "      <td>FLUXERR_VIS</td>\n",
       "    </tr>\n",
       "    <tr>\n",
       "      <th>6</th>\n",
       "      <td>FLUXERR_Y_1</td>\n",
       "      <td>FLUXERR_Y_1</td>\n",
       "    </tr>\n",
       "    <tr>\n",
       "      <th>7</th>\n",
       "      <td>FLUXERR_Z_1</td>\n",
       "      <td>FLUXERR_Z_1</td>\n",
       "    </tr>\n",
       "    <tr>\n",
       "      <th>8</th>\n",
       "      <td>FLUX_G_1</td>\n",
       "      <td>FLUX_G_1</td>\n",
       "    </tr>\n",
       "    <tr>\n",
       "      <th>9</th>\n",
       "      <td>FLUX_H_1</td>\n",
       "      <td>FLUX_H_1</td>\n",
       "    </tr>\n",
       "    <tr>\n",
       "      <th>10</th>\n",
       "      <td>FLUX_I_1</td>\n",
       "      <td>FLUX_I_1</td>\n",
       "    </tr>\n",
       "    <tr>\n",
       "      <th>11</th>\n",
       "      <td>FLUX_J_1</td>\n",
       "      <td>FLUX_J_1</td>\n",
       "    </tr>\n",
       "    <tr>\n",
       "      <th>12</th>\n",
       "      <td>FLUX_RADIUS_DETECT</td>\n",
       "      <td>FLUX_RADIUS_DETECT</td>\n",
       "    </tr>\n",
       "    <tr>\n",
       "      <th>13</th>\n",
       "      <td>FLUX_R_1</td>\n",
       "      <td>FLUX_R_1</td>\n",
       "    </tr>\n",
       "    <tr>\n",
       "      <th>14</th>\n",
       "      <td>FLUX_VIS</td>\n",
       "      <td>FLUX_VIS</td>\n",
       "    </tr>\n",
       "    <tr>\n",
       "      <th>15</th>\n",
       "      <td>FLUX_Y_1</td>\n",
       "      <td>FLUX_Y_1</td>\n",
       "    </tr>\n",
       "    <tr>\n",
       "      <th>16</th>\n",
       "      <td>FLUX_Z_1</td>\n",
       "      <td>FLUX_Z_1</td>\n",
       "    </tr>\n",
       "    <tr>\n",
       "      <th>17</th>\n",
       "      <td>FWHM_IMAGE_DETECT</td>\n",
       "      <td>FWHM_IMAGE_DETECT</td>\n",
       "    </tr>\n",
       "    <tr>\n",
       "      <th>18</th>\n",
       "      <td>ID</td>\n",
       "      <td>ID</td>\n",
       "    </tr>\n",
       "    <tr>\n",
       "      <th>19</th>\n",
       "      <td>MU_MAX_DETECT</td>\n",
       "      <td>MU_MAX_DETECT</td>\n",
       "    </tr>\n",
       "    <tr>\n",
       "      <th>20</th>\n",
       "      <td>MU_THRESHOLD_DETECT</td>\n",
       "      <td>MU_THRESHOLD_DETECT</td>\n",
       "    </tr>\n",
       "  </tbody>\n",
       "</table>\n",
       "</div>"
      ],
      "text/plain": [
       "   euclid_cosmos_DC2_S2_v2.1_calib.fits euclid_cosmos_DC2_S2_v2.1_valid.fits\n",
       "0                     CLASS_STAR_DETECT                    CLASS_STAR_DETECT\n",
       "1                    ELLIPTICITY_DETECT                   ELLIPTICITY_DETECT\n",
       "2                           FLUXERR_G_1                          FLUXERR_G_1\n",
       "3                           FLUXERR_I_1                          FLUXERR_I_1\n",
       "4                           FLUXERR_R_1                          FLUXERR_R_1\n",
       "5                           FLUXERR_VIS                          FLUXERR_VIS\n",
       "6                           FLUXERR_Y_1                          FLUXERR_Y_1\n",
       "7                           FLUXERR_Z_1                          FLUXERR_Z_1\n",
       "8                              FLUX_G_1                             FLUX_G_1\n",
       "9                              FLUX_H_1                             FLUX_H_1\n",
       "10                             FLUX_I_1                             FLUX_I_1\n",
       "11                             FLUX_J_1                             FLUX_J_1\n",
       "12                   FLUX_RADIUS_DETECT                   FLUX_RADIUS_DETECT\n",
       "13                             FLUX_R_1                             FLUX_R_1\n",
       "14                             FLUX_VIS                             FLUX_VIS\n",
       "15                             FLUX_Y_1                             FLUX_Y_1\n",
       "16                             FLUX_Z_1                             FLUX_Z_1\n",
       "17                    FWHM_IMAGE_DETECT                    FWHM_IMAGE_DETECT\n",
       "18                                   ID                                   ID\n",
       "19                        MU_MAX_DETECT                        MU_MAX_DETECT\n",
       "20                  MU_THRESHOLD_DETECT                  MU_THRESHOLD_DETECT"
      ]
     },
     "execution_count": 8,
     "metadata": {},
     "output_type": "execute_result"
    }
   ],
   "source": [
    "key2 = (0.1, 1., 1)\n",
    "\n",
    "pretty_highest_ind(edd_knn[key2])"
   ]
  },
  {
   "cell_type": "code",
   "execution_count": 9,
   "metadata": {},
   "outputs": [
    {
     "data": {
      "text/html": [
       "<div>\n",
       "<style scoped>\n",
       "    .dataframe tbody tr th:only-of-type {\n",
       "        vertical-align: middle;\n",
       "    }\n",
       "\n",
       "    .dataframe tbody tr th {\n",
       "        vertical-align: top;\n",
       "    }\n",
       "\n",
       "    .dataframe thead th {\n",
       "        text-align: right;\n",
       "    }\n",
       "</style>\n",
       "<table border=\"1\" class=\"dataframe\">\n",
       "  <thead>\n",
       "    <tr style=\"text-align: right;\">\n",
       "      <th></th>\n",
       "      <th>euclid_cosmos_DC2_S2_v2.1_calib.fits</th>\n",
       "      <th>euclid_cosmos_DC2_S2_v2.1_valid.fits</th>\n",
       "    </tr>\n",
       "  </thead>\n",
       "  <tbody>\n",
       "    <tr>\n",
       "      <th>0</th>\n",
       "      <td>CLASS_STAR_DETECT</td>\n",
       "      <td>CLASS_STAR_DETECT</td>\n",
       "    </tr>\n",
       "    <tr>\n",
       "      <th>1</th>\n",
       "      <td>ELLIPTICITY_DETECT</td>\n",
       "      <td>ELLIPTICITY_DETECT</td>\n",
       "    </tr>\n",
       "    <tr>\n",
       "      <th>2</th>\n",
       "      <td>FLUXERR_G_1</td>\n",
       "      <td>FLUXERR_G_1</td>\n",
       "    </tr>\n",
       "    <tr>\n",
       "      <th>3</th>\n",
       "      <td>FLUXERR_I_1</td>\n",
       "      <td>FLUXERR_I_1</td>\n",
       "    </tr>\n",
       "    <tr>\n",
       "      <th>4</th>\n",
       "      <td>FLUXERR_R_1</td>\n",
       "      <td>FLUXERR_R_1</td>\n",
       "    </tr>\n",
       "    <tr>\n",
       "      <th>5</th>\n",
       "      <td>FLUXERR_VIS</td>\n",
       "      <td>FLUXERR_VIS</td>\n",
       "    </tr>\n",
       "    <tr>\n",
       "      <th>6</th>\n",
       "      <td>FLUXERR_Z_1</td>\n",
       "      <td>FLUXERR_Z_1</td>\n",
       "    </tr>\n",
       "    <tr>\n",
       "      <th>7</th>\n",
       "      <td>FLUX_G_1</td>\n",
       "      <td>FLUX_G_1</td>\n",
       "    </tr>\n",
       "    <tr>\n",
       "      <th>8</th>\n",
       "      <td>FLUX_H_1</td>\n",
       "      <td>FLUX_H_1</td>\n",
       "    </tr>\n",
       "    <tr>\n",
       "      <th>9</th>\n",
       "      <td>FLUX_I_1</td>\n",
       "      <td>FLUX_I_1</td>\n",
       "    </tr>\n",
       "    <tr>\n",
       "      <th>10</th>\n",
       "      <td>FLUX_J_1</td>\n",
       "      <td>FLUX_J_1</td>\n",
       "    </tr>\n",
       "    <tr>\n",
       "      <th>11</th>\n",
       "      <td>FLUX_RADIUS_DETECT</td>\n",
       "      <td>FLUX_RADIUS_DETECT</td>\n",
       "    </tr>\n",
       "    <tr>\n",
       "      <th>12</th>\n",
       "      <td>FLUX_R_1</td>\n",
       "      <td>FLUX_R_1</td>\n",
       "    </tr>\n",
       "    <tr>\n",
       "      <th>13</th>\n",
       "      <td>FLUX_VIS</td>\n",
       "      <td>FLUX_VIS</td>\n",
       "    </tr>\n",
       "    <tr>\n",
       "      <th>14</th>\n",
       "      <td>FLUX_Y_1</td>\n",
       "      <td>FLUX_Y_1</td>\n",
       "    </tr>\n",
       "    <tr>\n",
       "      <th>15</th>\n",
       "      <td>FLUX_Z_1</td>\n",
       "      <td>FLUX_Z_1</td>\n",
       "    </tr>\n",
       "    <tr>\n",
       "      <th>16</th>\n",
       "      <td>FWHM_IMAGE_DETECT</td>\n",
       "      <td>FWHM_IMAGE_DETECT</td>\n",
       "    </tr>\n",
       "    <tr>\n",
       "      <th>17</th>\n",
       "      <td>ID</td>\n",
       "      <td>ID</td>\n",
       "    </tr>\n",
       "    <tr>\n",
       "      <th>18</th>\n",
       "      <td>MU_MAX_DETECT</td>\n",
       "      <td>MU_MAX_DETECT</td>\n",
       "    </tr>\n",
       "    <tr>\n",
       "      <th>19</th>\n",
       "      <td>MU_THRESHOLD_DETECT</td>\n",
       "      <td>MU_THRESHOLD_DETECT</td>\n",
       "    </tr>\n",
       "  </tbody>\n",
       "</table>\n",
       "</div>"
      ],
      "text/plain": [
       "   euclid_cosmos_DC2_S2_v2.1_calib.fits euclid_cosmos_DC2_S2_v2.1_valid.fits\n",
       "0                     CLASS_STAR_DETECT                    CLASS_STAR_DETECT\n",
       "1                    ELLIPTICITY_DETECT                   ELLIPTICITY_DETECT\n",
       "2                           FLUXERR_G_1                          FLUXERR_G_1\n",
       "3                           FLUXERR_I_1                          FLUXERR_I_1\n",
       "4                           FLUXERR_R_1                          FLUXERR_R_1\n",
       "5                           FLUXERR_VIS                          FLUXERR_VIS\n",
       "6                           FLUXERR_Z_1                          FLUXERR_Z_1\n",
       "7                              FLUX_G_1                             FLUX_G_1\n",
       "8                              FLUX_H_1                             FLUX_H_1\n",
       "9                              FLUX_I_1                             FLUX_I_1\n",
       "10                             FLUX_J_1                             FLUX_J_1\n",
       "11                   FLUX_RADIUS_DETECT                   FLUX_RADIUS_DETECT\n",
       "12                             FLUX_R_1                             FLUX_R_1\n",
       "13                             FLUX_VIS                             FLUX_VIS\n",
       "14                             FLUX_Y_1                             FLUX_Y_1\n",
       "15                             FLUX_Z_1                             FLUX_Z_1\n",
       "16                    FWHM_IMAGE_DETECT                    FWHM_IMAGE_DETECT\n",
       "17                                   ID                                   ID\n",
       "18                        MU_MAX_DETECT                        MU_MAX_DETECT\n",
       "19                  MU_THRESHOLD_DETECT                  MU_THRESHOLD_DETECT"
      ]
     },
     "execution_count": 9,
     "metadata": {},
     "output_type": "execute_result"
    }
   ],
   "source": [
    "pretty_highest_ind(edd_som[key2])"
   ]
  },
  {
   "cell_type": "markdown",
   "metadata": {},
   "source": [
    "# Let's get a SOM"
   ]
  },
  {
   "cell_type": "code",
   "execution_count": 2,
   "metadata": {},
   "outputs": [
    {
     "name": "stderr",
     "output_type": "stream",
     "text": [
      "/opt/miniconda3/envs/matchbox/lib/python3.9/site-packages/numpy/lib/nanfunctions.py:1741: RuntimeWarning: invalid value encountered in subtract\n",
      "  np.subtract(arr, avg, out=arr, casting='unsafe', where=where)\n"
     ]
    }
   ],
   "source": [
    "calib = load_datasets(['/home/aalvarez/Work/Projects/MatchBox/data/dc2/euclid_cosmos_DC2_S2_v2.1_calib.fits'])[0][1]\n",
    "valid = load_datasets(['/home/aalvarez/Work/Projects/MatchBox/data/dc2/euclid_cosmos_DC2_S2_v2.1_valid.fits'])[0][1]\n",
    "truth = load_datasets(['/home/aalvarez/Work/Projects/MatchBox/data/dc2/euclid_cosmos_DC2_S2_v2.1_full.fits'])[0][1]"
   ]
  },
  {
   "cell_type": "code",
   "execution_count": 3,
   "metadata": {},
   "outputs": [],
   "source": [
    "cross = valid.join(truth, on='ID', how='left', rsuffix='_truth')"
   ]
  },
  {
   "cell_type": "code",
   "execution_count": 4,
   "metadata": {},
   "outputs": [],
   "source": [
    "#som_zip = zipfile.ZipFile('../results/som_20220331.zip')"
   ]
  },
  {
   "cell_type": "code",
   "execution_count": 3,
   "metadata": {},
   "outputs": [],
   "source": [
    "edd_map = dict()\n",
    "with open('/tmp/som/index.txt', 'rb') as fd:\n",
    "    for line in fd:\n",
    "        som_name, edd = line.decode('utf-8').split('\\t', 1)\n",
    "        lhs, rhs = edd.split('+')\n",
    "        lhs = tuple(map(str.strip, lhs.split(',')))\n",
    "        rhs = tuple(map(str.strip, rhs.split(',')))\n",
    "        assert(len(lhs) == len(rhs))\n",
    "        edd_map[(lhs, rhs)] = som_name.strip()"
   ]
  },
  {
   "cell_type": "code",
   "execution_count": 4,
   "metadata": {},
   "outputs": [],
   "source": [
    "edds = list(edd_map.keys())\n",
    "arities = list(map(lambda pair: len(pair[0]), edds))"
   ]
  },
  {
   "cell_type": "code",
   "execution_count": 5,
   "metadata": {},
   "outputs": [
    {
     "ename": "ValueError",
     "evalue": "attempt to get argmax of an empty sequence",
     "output_type": "error",
     "traceback": [
      "\u001b[0;31m---------------------------------------------------------------------------\u001b[0m",
      "\u001b[0;31mValueError\u001b[0m                                Traceback (most recent call last)",
      "Input \u001b[0;32mIn [5]\u001b[0m, in \u001b[0;36m<cell line: 1>\u001b[0;34m()\u001b[0m\n\u001b[0;32m----> 1\u001b[0m idx \u001b[38;5;241m=\u001b[39m \u001b[43mnp\u001b[49m\u001b[38;5;241;43m.\u001b[39;49m\u001b[43margmax\u001b[49m\u001b[43m(\u001b[49m\u001b[43marities\u001b[49m\u001b[43m)\u001b[49m\n\u001b[1;32m      2\u001b[0m example \u001b[38;5;241m=\u001b[39m edds[idx]\n\u001b[1;32m      3\u001b[0m \u001b[38;5;28mlen\u001b[39m(example[\u001b[38;5;241m0\u001b[39m]), \u001b[38;5;28mlist\u001b[39m(\u001b[38;5;28mzip\u001b[39m(example[\u001b[38;5;241m0\u001b[39m], example[\u001b[38;5;241m1\u001b[39m]))\n",
      "File \u001b[0;32m<__array_function__ internals>:180\u001b[0m, in \u001b[0;36margmax\u001b[0;34m(*args, **kwargs)\u001b[0m\n",
      "File \u001b[0;32m/opt/miniconda3/envs/matchbox/lib/python3.9/site-packages/numpy/core/fromnumeric.py:1216\u001b[0m, in \u001b[0;36margmax\u001b[0;34m(a, axis, out, keepdims)\u001b[0m\n\u001b[1;32m   1129\u001b[0m \u001b[38;5;124;03m\"\"\"\u001b[39;00m\n\u001b[1;32m   1130\u001b[0m \u001b[38;5;124;03mReturns the indices of the maximum values along an axis.\u001b[39;00m\n\u001b[1;32m   1131\u001b[0m \n\u001b[0;32m   (...)\u001b[0m\n\u001b[1;32m   1213\u001b[0m \u001b[38;5;124;03m(2, 1, 4)\u001b[39;00m\n\u001b[1;32m   1214\u001b[0m \u001b[38;5;124;03m\"\"\"\u001b[39;00m\n\u001b[1;32m   1215\u001b[0m kwds \u001b[38;5;241m=\u001b[39m {\u001b[38;5;124m'\u001b[39m\u001b[38;5;124mkeepdims\u001b[39m\u001b[38;5;124m'\u001b[39m: keepdims} \u001b[38;5;28;01mif\u001b[39;00m keepdims \u001b[38;5;129;01mis\u001b[39;00m \u001b[38;5;129;01mnot\u001b[39;00m np\u001b[38;5;241m.\u001b[39m_NoValue \u001b[38;5;28;01melse\u001b[39;00m {}\n\u001b[0;32m-> 1216\u001b[0m \u001b[38;5;28;01mreturn\u001b[39;00m \u001b[43m_wrapfunc\u001b[49m\u001b[43m(\u001b[49m\u001b[43ma\u001b[49m\u001b[43m,\u001b[49m\u001b[43m \u001b[49m\u001b[38;5;124;43m'\u001b[39;49m\u001b[38;5;124;43margmax\u001b[39;49m\u001b[38;5;124;43m'\u001b[39;49m\u001b[43m,\u001b[49m\u001b[43m \u001b[49m\u001b[43maxis\u001b[49m\u001b[38;5;241;43m=\u001b[39;49m\u001b[43maxis\u001b[49m\u001b[43m,\u001b[49m\u001b[43m \u001b[49m\u001b[43mout\u001b[49m\u001b[38;5;241;43m=\u001b[39;49m\u001b[43mout\u001b[49m\u001b[43m,\u001b[49m\u001b[43m \u001b[49m\u001b[38;5;241;43m*\u001b[39;49m\u001b[38;5;241;43m*\u001b[39;49m\u001b[43mkwds\u001b[49m\u001b[43m)\u001b[49m\n",
      "File \u001b[0;32m/opt/miniconda3/envs/matchbox/lib/python3.9/site-packages/numpy/core/fromnumeric.py:54\u001b[0m, in \u001b[0;36m_wrapfunc\u001b[0;34m(obj, method, *args, **kwds)\u001b[0m\n\u001b[1;32m     52\u001b[0m bound \u001b[38;5;241m=\u001b[39m \u001b[38;5;28mgetattr\u001b[39m(obj, method, \u001b[38;5;28;01mNone\u001b[39;00m)\n\u001b[1;32m     53\u001b[0m \u001b[38;5;28;01mif\u001b[39;00m bound \u001b[38;5;129;01mis\u001b[39;00m \u001b[38;5;28;01mNone\u001b[39;00m:\n\u001b[0;32m---> 54\u001b[0m     \u001b[38;5;28;01mreturn\u001b[39;00m \u001b[43m_wrapit\u001b[49m\u001b[43m(\u001b[49m\u001b[43mobj\u001b[49m\u001b[43m,\u001b[49m\u001b[43m \u001b[49m\u001b[43mmethod\u001b[49m\u001b[43m,\u001b[49m\u001b[43m \u001b[49m\u001b[38;5;241;43m*\u001b[39;49m\u001b[43margs\u001b[49m\u001b[43m,\u001b[49m\u001b[43m \u001b[49m\u001b[38;5;241;43m*\u001b[39;49m\u001b[38;5;241;43m*\u001b[39;49m\u001b[43mkwds\u001b[49m\u001b[43m)\u001b[49m\n\u001b[1;32m     56\u001b[0m \u001b[38;5;28;01mtry\u001b[39;00m:\n\u001b[1;32m     57\u001b[0m     \u001b[38;5;28;01mreturn\u001b[39;00m bound(\u001b[38;5;241m*\u001b[39margs, \u001b[38;5;241m*\u001b[39m\u001b[38;5;241m*\u001b[39mkwds)\n",
      "File \u001b[0;32m/opt/miniconda3/envs/matchbox/lib/python3.9/site-packages/numpy/core/fromnumeric.py:43\u001b[0m, in \u001b[0;36m_wrapit\u001b[0;34m(obj, method, *args, **kwds)\u001b[0m\n\u001b[1;32m     41\u001b[0m \u001b[38;5;28;01mexcept\u001b[39;00m \u001b[38;5;167;01mAttributeError\u001b[39;00m:\n\u001b[1;32m     42\u001b[0m     wrap \u001b[38;5;241m=\u001b[39m \u001b[38;5;28;01mNone\u001b[39;00m\n\u001b[0;32m---> 43\u001b[0m result \u001b[38;5;241m=\u001b[39m \u001b[38;5;28;43mgetattr\u001b[39;49m\u001b[43m(\u001b[49m\u001b[43masarray\u001b[49m\u001b[43m(\u001b[49m\u001b[43mobj\u001b[49m\u001b[43m)\u001b[49m\u001b[43m,\u001b[49m\u001b[43m \u001b[49m\u001b[43mmethod\u001b[49m\u001b[43m)\u001b[49m\u001b[43m(\u001b[49m\u001b[38;5;241;43m*\u001b[39;49m\u001b[43margs\u001b[49m\u001b[43m,\u001b[49m\u001b[43m \u001b[49m\u001b[38;5;241;43m*\u001b[39;49m\u001b[38;5;241;43m*\u001b[39;49m\u001b[43mkwds\u001b[49m\u001b[43m)\u001b[49m\n\u001b[1;32m     44\u001b[0m \u001b[38;5;28;01mif\u001b[39;00m wrap:\n\u001b[1;32m     45\u001b[0m     \u001b[38;5;28;01mif\u001b[39;00m \u001b[38;5;129;01mnot\u001b[39;00m \u001b[38;5;28misinstance\u001b[39m(result, mu\u001b[38;5;241m.\u001b[39mndarray):\n",
      "\u001b[0;31mValueError\u001b[0m: attempt to get argmax of an empty sequence"
     ]
    }
   ],
   "source": [
    "idx = np.argmax(arities)\n",
    "example = edds[idx]\n",
    "len(example[0]), list(zip(example[0], example[1]))"
   ]
  },
  {
   "cell_type": "code",
   "execution_count": 8,
   "metadata": {},
   "outputs": [],
   "source": [
    "som_path = os.path.relpath(edd_map[edds[idx]], '/home/users/a/alvarale/MatchBox/results/') + '.npy'"
   ]
  },
  {
   "cell_type": "code",
   "execution_count": 9,
   "metadata": {},
   "outputs": [
    {
     "data": {
      "text/plain": [
       "(40, 30, 18)"
      ]
     },
     "execution_count": 9,
     "metadata": {},
     "output_type": "execute_result"
    }
   ],
   "source": [
    "som_codebook = np.load(open(som_path, 'rb'))\n",
    "som_codebook.shape"
   ]
  },
  {
   "cell_type": "code",
   "execution_count": 10,
   "metadata": {},
   "outputs": [],
   "source": [
    "raw_calib = calib[list(example[0])].to_numpy()"
   ]
  },
  {
   "cell_type": "code",
   "execution_count": 11,
   "metadata": {},
   "outputs": [],
   "source": [
    "raw_valid = valid[list(example[1])].to_numpy()"
   ]
  },
  {
   "cell_type": "code",
   "execution_count": 12,
   "metadata": {},
   "outputs": [],
   "source": [
    "som = somoclu.Somoclu(som_codebook.shape[1], som_codebook.shape[0], initialcodebook=som_codebook)"
   ]
  },
  {
   "cell_type": "code",
   "execution_count": 13,
   "metadata": {},
   "outputs": [],
   "source": [
    "calib_bmus = som.get_bmus(som.get_surface_state(raw_calib))"
   ]
  },
  {
   "cell_type": "code",
   "execution_count": 14,
   "metadata": {},
   "outputs": [
    {
     "data": {
      "text/plain": [
       "['ID',\n",
       " 'FLUX_Y_1',\n",
       " 'FLUXERR_Y_1',\n",
       " 'FLUXERR_J_1',\n",
       " 'FLUXERR_H_1',\n",
       " 'FLAG_PHOT',\n",
       " 'FLAG_Iband',\n",
       " 'EB_V',\n",
       " 'FLAGS_DETECT',\n",
       " 'MASKED',\n",
       " 'SHEAR_SAMPLE',\n",
       " 'mu_class_L07',\n",
       " 'photo_z_L15',\n",
       " 'z_spec_S15',\n",
       " 'Q_f_S15',\n",
       " 'Instr_S15',\n",
       " 'flag_X_ray_s15',\n",
       " 'flag_IRAC_s15',\n",
       " 'STAR',\n",
       " 'AGN']"
      ]
     },
     "execution_count": 14,
     "metadata": {},
     "output_type": "execute_result"
    }
   ],
   "source": [
    "[c for c in calib.columns if c not in example[0]]"
   ]
  },
  {
   "cell_type": "code",
   "execution_count": 15,
   "metadata": {},
   "outputs": [],
   "source": [
    "calib_count = np.zeros((som_codebook.shape[1], som_codebook.shape[0]))\n",
    "calib_votes = np.zeros_like(calib_count)\n",
    "for i, (x, y) in enumerate(calib_bmus):\n",
    "    val = calib['SHEAR_SAMPLE'][i]\n",
    "    calib_count[x,y] += 1\n",
    "    calib_votes[x,y] += val\n",
    "calib_votes = calib_votes > calib_count/2"
   ]
  },
  {
   "cell_type": "code",
   "execution_count": 16,
   "metadata": {},
   "outputs": [],
   "source": [
    "valid_bmus = som.get_bmus(som.get_surface_state(raw_valid))"
   ]
  },
  {
   "cell_type": "code",
   "execution_count": 17,
   "metadata": {},
   "outputs": [],
   "source": [
    "valid_count = np.zeros_like(calib_count)\n",
    "valid_val = np.zeros(len(valid_bmus))\n",
    "for i, (x, y) in enumerate(valid_bmus):\n",
    "    valid_count[x,y] += 1\n",
    "    valid_val[i] = calib_votes[x,y]"
   ]
  },
  {
   "cell_type": "code",
   "execution_count": 18,
   "metadata": {},
   "outputs": [
    {
     "data": {
      "image/png": "[encoded data removed]",
      "text/plain": [
       "<Figure size 460.8x316.8 with 3 Axes>"
      ]
     },
     "metadata": {},
     "output_type": "display_data"
    }
   ],
   "source": [
    "fig, axes = plt.subplots(ncols=3, nrows=1)\n",
    "axes[0].imshow(calib_votes.T)\n",
    "axes[1].imshow(calib_count.T)\n",
    "axes[2].imshow(valid_count.T)\n",
    "for ax in axes:\n",
    "    ax.grid(False)"
   ]
  },
  {
   "cell_type": "code",
   "execution_count": 24,
   "metadata": {},
   "outputs": [],
   "source": [
    "from scikitplot.metrics import plot_confusion_matrix"
   ]
  },
  {
   "cell_type": "code",
   "execution_count": 30,
   "metadata": {},
   "outputs": [
    {
     "data": {
      "image/png": "[encoded data removed]",
      "text/plain": [
       "<Figure size 460.8x316.8 with 2 Axes>"
      ]
     },
     "metadata": {},
     "output_type": "display_data"
    }
   ],
   "source": [
    "plot_confusion_matrix(cross['SHEAR_SAMPLE'], valid_val, normalize=True)\n",
    "plt.show()"
   ]
  },
  {
   "cell_type": "code",
   "execution_count": null,
   "metadata": {},
   "outputs": [],
   "source": []
  }
 ],
 "metadata": {
  "kernelspec": {
   "display_name": "Python 3 (ipykernel)",
   "language": "python",
   "name": "python3"
  },
  "language_info": {
   "codemirror_mode": {
    "name": "ipython",
    "version": 3
   },
   "file_extension": ".py",
   "mimetype": "text/x-python",
   "name": "python",
   "nbconvert_exporter": "python",
   "pygments_lexer": "ipython3",
   "version": "3.9.12"
  }
 },
 "nbformat": 4,
 "nbformat_minor": 4
}
